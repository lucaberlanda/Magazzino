{
 "cells": [
  {
   "cell_type": "markdown",
   "metadata": {},
   "source": [
    "# Economics Notes\n",
    "\n",
    "### GDP\n",
    "\n",
    "The expenditure approach, also known as spending approach calculates the spending by the different groups that participate in the economy. This approach can be calculated using the following formula: \n",
    "$$\n",
    "\\text{GDP = C + G + I + NX}\n",
    "$$\n",
    "or (consumption + government spending + investment + net exports). All these activities contribute to the GDP of a country. The U.S. GDP is primarily measured based on the expenditure approach.\n",
    "\n",
    "The **C** is private consumption expenditures. Consumers spend money to buy consumption goods and services, such as groceries and haircuts. Consumer spending is the biggest component of GDP, accounting for more than two-thirds of the U.S. GDP. Consumer confidence, therefore, has a very significant bearing on economic growth. A high confidence level indicates that consumers are willing to spend, while a low confidence level reflects uncertainty about the future and an unwillingness to spend.\n",
    "\n",
    "> Se A paga B 100 euro, che paga C 100 euro per acquistare qualcosa, che paga D 100 euro, il PIL sarà di 300.\n"
   ]
  },
  {
   "cell_type": "markdown",
   "metadata": {},
   "source": [
    "\n",
    "\n",
    "###  Monetary Aggregates\n",
    "\n",
    "- Monetary base (M0)\n",
    "- M1\n",
    "- M2\n",
    "- **M3**: it is a measure of the money supply that includes M2 as well as large time deposits, institutional money market funds, short-term repurchase agreements (repo), and larger liquid assets. The M3 measurement includes assets that are less liquid than other components of the money supply and are referred to as \"**near money**\", which are more closely related to the finances of larger financial institutions and corporations than to those of small businesses and individuals.\n",
    "\n",
    "Milton Friedman: quantity of money per unit of output / inflation ( “A Monetary History of the United States,” Milton Friedman and Anna Schwartz)\n",
    "\n",
    "[Paul Krugman Article](https://www.nytimes.com/2021/05/21/opinion/money-federal-reserve-deficit.html)"
   ]
  },
  {
   "cell_type": "markdown",
   "metadata": {},
   "source": [
    "### Moltiplicatore\n",
    "\n",
    "In economia, **il moltiplicatore fiscale** è il rapporto tra una variazione del reddito nazionale e il cambiamento nella spesa pubblica che la causa.  Più in generale, il moltiplicatore di spesa esogeno è il rapporto tra una variazione del reddito nazionale e un qualsiasi cambiamento autonomo della spesa (spesa per investimenti privati, spesa dei consumatori, spesa pubblica o spesa degli stranieri sulle esportazioni del paese) che lo causa.\n",
    "$$\n",
    "\\Delta \\text{Y} = \\frac{1}{1-c} \\Delta \\text{A}\n",
    "$$\n",
    "Dove $c$ è la propensione al consumo"
   ]
  },
  {
   "cell_type": "code",
   "execution_count": null,
   "metadata": {},
   "outputs": [],
   "source": []
  }
 ],
 "metadata": {
  "kernelspec": {
   "display_name": "Python 3",
   "language": "python",
   "name": "python3"
  },
  "language_info": {
   "codemirror_mode": {
    "name": "ipython",
    "version": 3
   },
   "file_extension": ".py",
   "mimetype": "text/x-python",
   "name": "python",
   "nbconvert_exporter": "python",
   "pygments_lexer": "ipython3",
   "version": "3.8.8"
  }
 },
 "nbformat": 4,
 "nbformat_minor": 2
}
