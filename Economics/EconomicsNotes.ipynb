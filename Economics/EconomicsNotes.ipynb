{
 "cells": [
  {
   "cell_type": "markdown",
   "metadata": {},
   "source": [
    "# Economics Notes\n",
    "\n",
    "## GDP\n",
    "\n",
    "The expenditure approach, also known as spending approach calculates the spending by the different groups that participate in the economy. This approach can be calculated using the following formula: \n",
    "$$\n",
    "\\text{GDP = C + G + I + NX}\n",
    "$$\n",
    "or (consumption + government spending + investment + net exports). All these activities contribute to the GDP of a country. The U.S. GDP is primarily measured based on the expenditure approach.\n",
    "\n",
    "The **C** is private consumption expenditures. Consumers spend money to buy consumption goods and services, such as groceries and haircuts. Consumer spending is the biggest component of GDP, accounting for more than two-thirds of the U.S. GDP. Consumer confidence, therefore, has a very significant bearing on economic growth. A high confidence level indicates that consumers are willing to spend, while a low confidence level reflects uncertainty about the future and an unwillingness to spend.\n",
    "\n",
    "> Se A paga B 100 euro, che paga C 100 euro per acquistare qualcosa, che paga D 100 euro, il PIL sarà di 300.\n",
    "\n",
    "\n",
    "\n",
    "\n",
    "\n",
    "## Moltiplicatore\n",
    "\n",
    "In economia, **il moltiplicatore fiscale** è il rapporto tra una variazione del reddito nazionale e il cambiamento nella spesa pubblica che la causa.  Più in generale, il moltiplicatore di spesa esogeno è il rapporto tra una variazione del reddito nazionale e un qualsiasi cambiamento autonomo della spesa (spesa per investimenti privati, spesa dei consumatori, spesa pubblica o spesa degli stranieri sulle esportazioni del paese) che lo causa.\n",
    "$$\n",
    "\\Delta \\text{Y} = \\frac{1}{1-c} \\Delta \\text{A}\n",
    "$$\n",
    "Dove $c$ è la propensione al consumo"
   ]
  },
  {
   "cell_type": "code",
   "execution_count": null,
   "metadata": {},
   "outputs": [],
   "source": []
  }
 ],
 "metadata": {
  "kernelspec": {
   "display_name": "Python 3",
   "language": "python",
   "name": "python3"
  },
  "language_info": {
   "codemirror_mode": {
    "name": "ipython",
    "version": 3
   },
   "file_extension": ".py",
   "mimetype": "text/x-python",
   "name": "python",
   "nbconvert_exporter": "python",
   "pygments_lexer": "ipython3",
   "version": "3.7.4"
  }
 },
 "nbformat": 4,
 "nbformat_minor": 2
}
