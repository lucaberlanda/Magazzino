{
 "cells": [
  {
   "cell_type": "markdown",
   "metadata": {},
   "source": [
    "# Distributions"
   ]
  },
  {
   "cell_type": "markdown",
   "metadata": {},
   "source": [
    "## Discrete"
   ]
  },
  {
   "cell_type": "markdown",
   "metadata": {},
   "source": [
    "\n",
    "#### Bernoulli Distribution\n",
    "\n",
    "- *PMF*: Taking value $1$ with probability $p$ and taking the value $0$ with probability $1-p$\n",
    "\n",
    "- *Expected value*: $p$\n",
    "\n",
    "- *Variance*: $p(1-p)$\n",
    "\n",
    "#### Uniform Distribution\n",
    "\n",
    "- *PMF*: Integers from $a$ to $b$ (with $a \\leq b$) with probability $p(x) = \\frac{1}{b - a +1}$\n",
    "\n",
    "- *Expected value*: ${\\displaystyle (b-a)/2}$\n",
    "\n",
    "- *Variance*: ${\\displaystyle (b - a)(b - a +2)/12}$\n",
    "\n",
    "#### Binomial Distribution\n",
    "\n",
    "- *PMF*: number of successes with probability $p$ over $n$ events. It is a sequence of Bernoulli rvs\n",
    "\n",
    "$$\n",
    "{\\displaystyle {\\binom {n}{k}}p^{k}q^{n-k}}\n",
    "$$\n",
    "\n",
    "- *Expected value*: $np$\n",
    "\n",
    "- *Variance*: $np(1-p)$\n",
    "\n",
    "- <span style=\"color:blue\">Example: Consider the sample space of $n$ tosses of a coin. The size of this space is: $2^n$ or $\\binom{n}{0} + \\binom{n}{1}\\dots \\binom{n}{n}$</span>\n",
    "\n",
    "#### [Poisson](https://en.wikipedia.org/wiki/Poisson_distribution) Distribution\n",
    "\n",
    "- **PMF**: probability of a given number of events occurring in a fixed interval of time or space if these events occur with a known constant mean rate and **independently** of the time since the last event.\n",
    "\n",
    "  $${\\displaystyle {\\frac {\\lambda ^{k}e^{-\\lambda }}{k!}}}$$\n",
    "\n",
    "- **Expected value**: $\\lambda$\n",
    "\n",
    "- **Variance**: $\\lambda$\n",
    "\n",
    "#### Geometric Distribution\n",
    "\n",
    "- **PMF**: Infinitely many independent tosses of a coin; number of tosses until first \"success\"\n",
    "\n",
    "$${\\displaystyle p_{X}(k) = (1-p)^{k-1}p}$$\n",
    "\n",
    "- **Expected value**: $1/p$\n",
    "\n",
    "- **Variance**: $(1 - p)/p^2$\n",
    "\n",
    "- **Characteristics**: memoryless\n",
    "\n",
    "### Property\n",
    "\n",
    "For $X$ being a random variable taking as values integer greater than zero, we have that:\n",
    "\n",
    "$${\\displaystyle E(x) = \\sum_{k=1}^{\\infty}{kp_{X}(k)} = \\sum_{k=1}^{\\infty}{P(X\\geq{k})}}$$"
   ]
  },
  {
   "cell_type": "markdown",
   "metadata": {},
   "source": [
    "## Continuous"
   ]
  },
  {
   "cell_type": "markdown",
   "metadata": {},
   "source": [
    "#### Expected value\n",
    "\n",
    "$${\\displaystyle E(X) = \\int_{x}{xf_{X}(x)dx}}$$\n",
    "\n",
    "#### Variance\n",
    "\n",
    "$${\\displaystyle \\operatorname {Var}(X)= \\int_{x}{(x-\\mu)^2f(x)dx}}$$\n",
    "\n",
    "#### Cumulative Distribution Function (**CDF**)\n",
    "\n",
    "$${\\displaystyle F_{X}(x)=\\operatorname {P} (X\\leq x)}$$\n",
    "\n",
    "$$F_{X}(x)=\\int_ {-\\infty }^{x}f_{X}(t)\\,dt$$\n",
    "\n",
    "- CDF is non descreasing\n",
    "\n",
    "### Distributions\n",
    "\n",
    "#### [Exponential](https://en.wikipedia.org/wiki/Exponential_distribution) Distribution\n",
    "\n",
    "- **PDF**: this random variable is the continuous analogous of the geometric distribution, and its pdf is:\n",
    "\n",
    "  $$f(x;\\lambda) = \\lambda e^{-\\lambda x}$$\n",
    "\n",
    "  for $x \\geq 0$, and $0$ otherwise.\n",
    "\n",
    "- **Expected value**: $\\lambda$\n",
    "\n",
    "- **Variance**: $\\lambda$\n",
    "\n",
    "#### [Gaussian](https://en.wikipedia.org/wiki/Normal_distribution) Distribution\n",
    "\n",
    "- **PDF**:\n",
    "\n",
    "$${\\displaystyle f(x) = \\frac{1}{\\sigma\\sqrt{2\\pi}}e^{-\\frac{(x-\\mu)^2}{2\\sigma^2}}}$$\n",
    "\n",
    "- **Expected value**: $\\mu$\n",
    "\n",
    "- **Variance**: $\\sigma^2$\n",
    "\n",
    "- Nice analytical properties, model noise, central limit theorem\n",
    "\n",
    "#### [Poisson](https://en.wikipedia.org/wiki/Exponential_distribution) Distribution\n",
    "\n",
    "- **PDF**: this random variable is the continuous analogous of the geometric distribution, and its pdf is:\n",
    "\n",
    "  $$f(x;\\lambda) = \\lambda e^{-\\lambda x}$$\n",
    "\n",
    "  for $x \\geq 0$, and $0$ otherwise.\n",
    "\n",
    "- **Expected value**: $\\lambda$\n",
    "\n",
    "- **Variance**: $\\lambda$"
   ]
  },
  {
   "cell_type": "markdown",
   "metadata": {},
   "source": [
    "## Joint probability density functions\n",
    "\n",
    "- The value of the joint PDF at any particular point is non-negative\n",
    "- The joint PDF integrates to  1  over the entire domain"
   ]
  },
  {
   "cell_type": "code",
   "execution_count": null,
   "metadata": {},
   "outputs": [],
   "source": []
  }
 ],
 "metadata": {
  "kernelspec": {
   "display_name": "Python 3",
   "language": "python",
   "name": "python3"
  },
  "language_info": {
   "codemirror_mode": {
    "name": "ipython",
    "version": 3
   },
   "file_extension": ".py",
   "mimetype": "text/x-python",
   "name": "python",
   "nbconvert_exporter": "python",
   "pygments_lexer": "ipython3",
   "version": "3.7.4"
  }
 },
 "nbformat": 4,
 "nbformat_minor": 2
}
