{
 "cells": [
  {
   "cell_type": "markdown",
   "metadata": {},
   "source": [
    "\n",
    "**SIMULATE** A higher error variance means that the variance of our  β^ s is higher, meaning that we should be less sure of our estimates. This means we should have less confidence in our ability to estimate the linear relationship precisely.\n",
    "\n",
    "\n",
    "We know that  β0^ and β1^  are related as follows:  β^0=Y¯¯¯¯−β^1X¯¯¯¯ . Therefore, if we overestimate or underestimate the intercept  β0 , then the slope  β1  will have to make up for it (by doing the opposite).\n",
    "\n",
    "**Simulate**: If we assume that the errors are i.i.d. normal, $\\hat{\\beta_0}$ and $\\hat{\\beta_1}$ then are normally distributed\n",
    "\n",
    "\n",
    "**Simulate Kurtosis as long as i add extreme observatoins**\n",
    "\n",
    "\n",
    "**standard errors pay a price for each additional term you include, STANDARD ERROR VS NUMBER OF VARIABLES**\n",
    "\n",
    "**IN THE CONTEXT OF REGRESSION DISCONTINUITY: The quasi-experimental analysis also suggest that heuristic \"fixed effects\" and \"instrumental variable\" modeling approaches would have led to misleading inferences in this context.**"
   ]
  },
  {
   "cell_type": "code",
   "execution_count": null,
   "metadata": {},
   "outputs": [],
   "source": []
  }
 ],
 "metadata": {
  "kernelspec": {
   "display_name": "Python 3",
   "language": "python",
   "name": "python3"
  },
  "language_info": {
   "codemirror_mode": {
    "name": "ipython",
    "version": 3
   },
   "file_extension": ".py",
   "mimetype": "text/x-python",
   "name": "python",
   "nbconvert_exporter": "python",
   "pygments_lexer": "ipython3",
   "version": "3.7.4"
  }
 },
 "nbformat": 4,
 "nbformat_minor": 2
}
