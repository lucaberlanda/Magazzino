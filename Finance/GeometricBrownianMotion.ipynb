{
 "cells": [
  {
   "cell_type": "markdown",
   "metadata": {},
   "source": [
    "# GBM\n",
    "\n",
    "The definition is\n",
    "\n",
    "$$S_{t}=S_{0}\\exp^{\\left(\\left(\\mu -{\\frac {\\sigma ^{2}}{2}}\\right)t+\\sigma W_{t}\\right)}$$\n",
    "\n",
    "$$E(X_t)=x_0e^{(\\mu-\\sigma^2/2)t}E(e^{\\sigma B_t}).$$\n",
    "\n",
    "Since $E(e^{\\sigma B_t})=e^{u^2/2}$ for every real number $u$ and every standard normal random variable $Z$, the identity $E(e^{\\sigma B_t})=e^{\\sigma^2 t/2}$ follows from the fact that σBt is distributed like $\\sigma t \\sqrt{Z}$. Simplifying, one gets the same expression of E(Xt) than by the direct route, namely,\n",
    "\n",
    "\n",
    "$$E(X_t)=E(X_0)e^{\\mu t}.$$\n",
    "\n",
    "$$E(\\frac{X_t}{X_0})=e^{\\mu t}.$$\n",
    "\n",
    "https://math.stackexchange.com/questions/176196/calculate-the-expected-value-of-y-ex-where-x-sim-n-mu-sigma2\n",
    "https://quant.stackexchange.com/questions/32244/geometric-brownian-motion-percentage-returns-vs-log-returns\n",
    "https://math.stackexchange.com/questions/40826/expectation-of-geometric-brownian-motion"
   ]
  },
  {
   "cell_type": "code",
   "execution_count": 2,
   "metadata": {},
   "outputs": [
    {
     "data": {
      "text/plain": [
       "0.6931471805599453"
      ]
     },
     "execution_count": 2,
     "metadata": {},
     "output_type": "execute_result"
    }
   ],
   "source": [
    "import numpy as np\n",
    "np.log(2)"
   ]
  },
  {
   "cell_type": "code",
   "execution_count": null,
   "metadata": {},
   "outputs": [],
   "source": []
  }
 ],
 "metadata": {
  "kernelspec": {
   "display_name": "Python 3",
   "language": "python",
   "name": "python3"
  },
  "language_info": {
   "codemirror_mode": {
    "name": "ipython",
    "version": 3
   },
   "file_extension": ".py",
   "mimetype": "text/x-python",
   "name": "python",
   "nbconvert_exporter": "python",
   "pygments_lexer": "ipython3",
   "version": "3.7.4"
  }
 },
 "nbformat": 4,
 "nbformat_minor": 2
}
