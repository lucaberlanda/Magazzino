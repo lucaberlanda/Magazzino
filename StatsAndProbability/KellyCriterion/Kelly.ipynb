{
 "cells": [
  {
   "cell_type": "markdown",
   "metadata": {},
   "source": [
    "# <span style='font-family:Georgia'> Kelly's Principle"
   ]
  },
  {
   "cell_type": "code",
   "execution_count": 1,
   "metadata": {},
   "outputs": [
    {
     "ename": "SyntaxError",
     "evalue": "invalid syntax (<ipython-input-1-ed61d2c48134>, line 5)",
     "output_type": "error",
     "traceback": [
      "\u001b[1;36m  File \u001b[1;32m\"<ipython-input-1-ed61d2c48134>\"\u001b[1;36m, line \u001b[1;32m5\u001b[0m\n\u001b[1;33m    from Stats&Probability\u001b[0m\n\u001b[1;37m              ^\u001b[0m\n\u001b[1;31mSyntaxError\u001b[0m\u001b[1;31m:\u001b[0m invalid syntax\n"
     ]
    }
   ],
   "source": [
    "import numpy as np\n",
    "import pandas as pd\n",
    "import matplotlib.pyplot as plt\n",
    "\n",
    "from Stats&Probability\n"
   ]
  },
  {
   "cell_type": "markdown",
   "metadata": {},
   "source": [
    "- [**Here**](http://www.princeton.edu/~wbialek/rome/refs/kelly_56.pdf) Kelly's paper\n",
    "- [**Taleb Video**](https://www.youtube.com/watch?v=91IOwS0gf3g&list=WL&index=1&t=300s) to explain it\n",
    "- [**Thorp Paper**](http://www.eecs.harvard.edu/cs286r/courses/fall12/papers/Thorpe_KellyCriterion2007.pdf)"
   ]
  },
  {
   "cell_type": "markdown",
   "metadata": {},
   "source": [
    "Consider a fair bet, quoted at 2 (50/50 chance). Let's first assume we know with certainty the winner. How much would\n",
    "he bet? Probably all he had since you would win with certainty. In this case The capital would grow exponentially and after N bets he would have $2^N$ times the original bankroll. This exponential growth of capital is not uncommon in economics. In fact, if the binary digits in the above channel were arriving at the rate of one per week, the sequence of bets would have the value of an investment paying 100% interest per week compounded weekly. We will make use of a quantity $G$ called the exponential rate of growth of the gambler’s capital, where\n",
    "\n",
    "$$G = \\lim_{N \\to +\\infty} \\frac{1}{N} \\log \\frac{V_N}{V_0}$$\n",
    "\n",
    "That means\n",
    "\n",
    "$$V_N = V_0 e^{G N}$$\n",
    "\n",
    "In the previous example, $G=1$. In a discrete framework, \n",
    "\n",
    "$$V_N = V_0 (1+r)^N$$\n",
    "\n",
    "and so:\n",
    "\n",
    "$$r + 1 = \\frac{V_N}{V_0}^{\\frac{1}{N}}$$\n",
    "\n",
    "**By setting $G = \\log(1+r)$ we obtain the first equation**. Consider the case now of a noisy binary channel, where each transmitted symbol has probability, $p$ of correct transmission. Now the gambler could still bet his entire capital each time, and, in fact, this would maximize the expected value of his capital, which in this case would be given by\n",
    "\n",
    "$$E(V_N)  = (2p)^N V_0$$\n",
    "\n",
    "(**this is true only if $p > 0.5$**)\n",
    "\n",
    "\n",
    "This would be little comfort, however, since when N was large he would probably be broke and, in fact, would be broke with probability one if he continued indefinitely. Let us, instead, assume that he bets a fraction $l$ of his capital each time. Then\n",
    "\n",
    "$$V_N = (1 + l)^W (1 − l)^L V_0$$\n",
    "\n",
    "<div class=\"alert alert-info\">\n",
    "To reach to the previous conclusion that the expected value of the bet is reached as betting the full wealth let's take the expected value of that quantity\n",
    "\n",
    "$$\n",
    "E(V_N) = E((1 + l)^W (1 − l)^L V_0)\\\\\n",
    "E(V_N) = (1 + l)^{Np} (1 − l)^{N(1-p)} V_0\\\\\n",
    "$$\n",
    "\n",
    "\n",
    "Thorp Paper\n",
    "</div>\n",
    "\n",
    "where $W$ and $L$ are the number of wins and losses in the $N$ bets. Then\n",
    "\n",
    "$$\\begin{align} G &= \\lim_{N \\to +\\infty} \\frac{1}{N} \\log \\frac{(1 + l)^W (1 − l)^L V_0}{V_0} \\\\\n",
    "&= \\lim_{N \\to +\\infty} \\left[ \\frac{W}{N} \\log(1 + l) + \\frac{L}{N} \\log(1 - l) \\right] \\\\\n",
    "&= p \\log(1 + l) + (1-p) \\log(1 - l) \\end{align}$$\n",
    "\n",
    "Where $p$ is the probability of winning. Maximizing $G$ means deriving last equation and set it equal to zero.\n",
    "\n",
    "$$\\frac{\\partial G}{\\partial l} = \\frac{p}{1+l} - \\frac{1-p}{1-l}$$\n",
    "\n",
    "which is convex since\n",
    "\n",
    "$$\\frac{\\partial^2 G}{\\partial l^2} = -\\frac{p}{(1+l)^2} - \\frac{1-p}{(1-l)^2}$$\n",
    "\n",
    "is always negative. Setting the derivative equal to zero yields:\n",
    "\n",
    "$$1+l = 2p\\\\\n",
    "$$"
   ]
  },
  {
   "cell_type": "code",
   "execution_count": null,
   "metadata": {},
   "outputs": [],
   "source": [
    "bet_portions = np.arange(0.01, 1, 0.001) # waged fraction\n",
    "correct_transmission_prob = np.arange(0.5, 1.05, 0.05) # chance of correct communication"
   ]
  },
  {
   "cell_type": "code",
   "execution_count": null,
   "metadata": {},
   "outputs": [],
   "source": [
    "q = 0.8\n",
    "g_dict = {}\n",
    "for q in correct_transmission_prob:\n",
    "    q = round(q, 2)\n",
    "    g_dict_by_prob = {}\n",
    "    for l in bet_portions:\n",
    "        g = q * np.log(1 + l) + (1-q) * np.log(1-l)\n",
    "        g_dict_by_prob[l] = g\n",
    "    \n",
    "    g_dict[q] = g_dict_by_prob\n"
   ]
  },
  {
   "cell_type": "code",
   "execution_count": null,
   "metadata": {},
   "outputs": [],
   "source": [
    "log_G = pd.DataFrame(g_dict)  # logaritmic growth\n",
    "G = (np.exp(log_G) - 1)  # growth"
   ]
  },
  {
   "cell_type": "code",
   "execution_count": null,
   "metadata": {},
   "outputs": [],
   "source": [
    "fig = plt.figure(figsize=(10, 7))\n",
    "ax = fig.add_subplot(1, 1, 1)\n",
    "log_G.plot(ax=ax,  cmap=plt.get_cmap('inferno'))\n",
    "max_g = log_G.max(axis=0)\n",
    "max_g.index = log_G.idxmax(axis=0, skipna=True).values\n",
    "max_g = max_g.reset_index()\n",
    "max_g.columns =['x', 'y']\n",
    "max_g.plot(kind ='scatter', x='x', y='y', ax=ax, color = 'red', s=50)\n",
    "ax.set_ylim(-1.5, 1.1)\n",
    "ax.set_title('Log Growth', fontsize=20)\n",
    "plt.show()"
   ]
  },
  {
   "cell_type": "code",
   "execution_count": null,
   "metadata": {},
   "outputs": [],
   "source": [
    "fig = plt.figure(figsize=(10, 7))\n",
    "ax = fig.add_subplot(1, 1, 1)\n",
    "G.plot(ax=ax, cmap=plt.get_cmap('viridis'))\n",
    "max_g = G.max(axis=0)\n",
    "max_g.index = G.idxmax(axis=0, skipna=True).values\n",
    "max_g = max_g.reset_index()\n",
    "max_g.columns =['x', 'y']\n",
    "max_g.plot(kind ='scatter', x='x', y='y', ax=ax, color = 'red', s=50)\n",
    "ax.set_title('Linear Growth', fontsize=20)\n",
    "ax.set_ylim(-1.5, 1.1)\n",
    "plt.show()"
   ]
  },
  {
   "cell_type": "markdown",
   "metadata": {},
   "source": [
    "## <span style='font-family:Georgia'> Generalizations\n",
    "    \n",
    "- In the base case, i.e. doubling the wagered amount with probability $p$ or losing everything with probability $q = 1 - p$, the optimal fraction of wealth wagered is: \n",
    "\n",
    "    $$f^* = p - q$$  \n",
    "\n",
    "\n",
    "- Winning $b$ units per unit of wagered amount with probability $p$ or losing everything with probability $q = 1 - p$, the optimal fraction of wealth wagered is: \n",
    "\n",
    "    $$f^* = \\frac{bp - q}{b}$$  \n",
    "    \n",
    "    Of course, if $b=2$, we go back to the base case.\n",
    "\n",
    "- Winning $b$ units per unit of wagered amount with probability $p$ or losing $a$ units per unit of wagered amount with probability $q$, then, if the expectation value of the bet $bp-aq > 0$, the optimal fraction of wealth wagered is: \n",
    "\n",
    "    $$f^* = \\frac{bp - aq}{ab}$$  \n",
    "    \n",
    "    Of course, if $b=2$, we go back to the base case.\n",
    "\n",
    "   "
   ]
  },
  {
   "cell_type": "code",
   "execution_count": null,
   "metadata": {},
   "outputs": [],
   "source": [
    "def optimal_f(p, b=2, a=0):\n",
    "    \n",
    "    q = 1 - p\n",
    "    \n",
    "    if a > 0:\n",
    "        opt_f = (b * p - a * q)/(a * b) \n",
    "    else:\n",
    "        opt_f = (b * p - q)/b \n",
    "        \n",
    "    return opt_f"
   ]
  },
  {
   "cell_type": "code",
   "execution_count": null,
   "metadata": {},
   "outputs": [],
   "source": [
    "optimal_f(0.8)"
   ]
  },
  {
   "cell_type": "code",
   "execution_count": null,
   "metadata": {},
   "outputs": [],
   "source": []
  },
  {
   "cell_type": "code",
   "execution_count": null,
   "metadata": {},
   "outputs": [],
   "source": []
  },
  {
   "cell_type": "code",
   "execution_count": null,
   "metadata": {},
   "outputs": [],
   "source": []
  },
  {
   "cell_type": "code",
   "execution_count": null,
   "metadata": {},
   "outputs": [],
   "source": []
  },
  {
   "cell_type": "code",
   "execution_count": null,
   "metadata": {},
   "outputs": [],
   "source": []
  },
  {
   "cell_type": "code",
   "execution_count": null,
   "metadata": {},
   "outputs": [],
   "source": []
  },
  {
   "cell_type": "code",
   "execution_count": null,
   "metadata": {},
   "outputs": [],
   "source": []
  },
  {
   "cell_type": "code",
   "execution_count": null,
   "metadata": {},
   "outputs": [],
   "source": [
    "\n",
    "# 100 linearly spaced numbers\n",
    "x = np.linspace(-1,1,100)\n",
    "\n",
    "# the function, which is y = x^3 here\n",
    "y = x**3\n",
    "\n",
    "# setting the axes at the centre\n",
    "fig = plt.figure(figsize=(10, 7))\n",
    "ax = fig.add_subplot(1, 1, 1)\n",
    "ax.spines['left'].set_position('center')\n",
    "ax.spines['bottom'].set_position('center')\n",
    "ax.spines['right'].set_color('none')\n",
    "ax.spines['top'].set_color('none')\n",
    "ax.xaxis.set_ticks_position('bottom')\n",
    "ax.yaxis.set_ticks_position('left')\n",
    "\n",
    "# plot the function\n",
    "plt.plot(x,y, 'g')\n",
    "\n",
    "# show the plot\n",
    "plt.show()"
   ]
  },
  {
   "cell_type": "code",
   "execution_count": null,
   "metadata": {},
   "outputs": [],
   "source": []
  },
  {
   "cell_type": "code",
   "execution_count": null,
   "metadata": {},
   "outputs": [],
   "source": []
  }
 ],
 "metadata": {
  "kernelspec": {
   "display_name": "Python 3",
   "language": "python",
   "name": "python3"
  },
  "language_info": {
   "codemirror_mode": {
    "name": "ipython",
    "version": 3
   },
   "file_extension": ".py",
   "mimetype": "text/x-python",
   "name": "python",
   "nbconvert_exporter": "python",
   "pygments_lexer": "ipython3",
   "version": "3.7.4"
  }
 },
 "nbformat": 4,
 "nbformat_minor": 2
}
