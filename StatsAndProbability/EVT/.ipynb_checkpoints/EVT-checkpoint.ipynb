{
 "cells": [
  {
   "cell_type": "markdown",
   "metadata": {},
   "source": [
    "# Extreme Value Theory"
   ]
  },
  {
   "cell_type": "markdown",
   "metadata": {},
   "source": [
    "Usually in statistics, we consider the rvs mean to have a limiting behaviour in the CLT; for maxima/minima (extremes), CLT does not apply, i.e. they do not live in the Gaussian world. In other words, the limiting behaviour of our maxima/minima is not CLT.\n",
    "\n",
    "**But Is there a way for finding limiting behaviour for partial maxima?**\n",
    "\n",
    "In EVT, the role of the normal distribution is played by two different distributions:\n",
    "\n",
    "1. Generalized Extreme Value Distribution ([GEV](https://en.wikipedia.org/wiki/Generalized_extreme_value_distribution)), coming from the Fisher–Tappet and Gnedenko Theorem, is obtained following the **block maxima approach**.\n",
    "2. Generalized Pareto Distribution ([GPD](https://en.wikipedia.org/wiki/Generalized_Pareto_distribution)), coming from the . Pickands–Balkema–de Haan Theorem, is obtained following the **peaks-over-threshold (POT) approach**. \n",
    "\n",
    "\n",
    "Consider a collection of $X_1, X_2, ... , X_3$ iid rvs, for $n>1$ we define $M_n = \\max(X_1, \\dots X_n)$\n",
    "\n",
    "\n",
    "\n",
    "$$\n",
    "{\\frac  {1}{\\sigma }}(1+\\xi z)^{{-(1/\\xi +1)}}\n",
    "$$"
   ]
  },
  {
   "cell_type": "markdown",
   "metadata": {},
   "source": [
    "\n",
    "Let's start with a Taleb's note:\n",
    "\n",
    "> Extreme Value Theory has been considered a panacea for dealing with extreme events by a bunch of \"risk modelers\". On paper it looks great. But only on paper. The problem is the calibration and parameter uncertainty --in the real world we don't know the parameters. The ranges in the probabilities generated we get are monstrous. This is a short presentation of the idea, followed by an exposition of the difficulty.\n",
    "\n",
    "## Fisher–Tappet and Gnedenko Theorem\n",
    "\n",
    "The main theorem of EVT is usually compared to the central limit theorem of probability. As the central limit theorem states the convergence of the standardized sum of any sequence of iid random variables (satisfying some technical assumptions) to a given distribution (the normal), so the results from Fisher, Tippett and Gnedenko guarantee that the standardized maximum of a sequence of iid random variables (again, under technical assumptions) converges to some given distribution family (Gumbel, Fréchet, Weibull). However, while the central limit theorem deals with sums of random variables, EVT focuses on maxima. Moreover, the central limit theorem provides a unique limit distribution, while EVT includes three different families of asymptotic distributions.\n",
    "\n",
    "F is said to be in the maximum domain of attraction of a Fréchet distribution the upper tail of F decays as a power function, multiplied by a slowly varying function. The Fréchet extreme value distribution is particularly important to finance, since most financial time-series are fat-tailed, thus displaying an asymptotic distribution of extremes that is of Fréchet type. The parameter α := 1/? > 0 is known as the tail index and is directly related to the tail behaviour of the distribution. For instance, one can prove that:\n",
    "\n",
    "## Hill's estimator\n",
    "\n",
    "<span style=\"color:#27916E\"> With <strong>python</strong> code</span>\n",
    "\n",
    "Hills estimator can be defined as the empirical mean excess function. We can see in the graph how it behaves. Employing graphical methods (known as Hill plots when the Hill estimator is used), displaying the estimated values of as a function of the cut-off, in order to find out some interval of candidate cut-off points that yield stable estimates (corresponding to a horizontal line in the Hill plot). The estimator thus depends on the parameter k 2 f2; : : : ; ng, which represents the cut-off between the observations considered as belonging to the center of the distribution and those pertaining to the upper tail, so that order statistics $Xj;n$ with 1 j < k can be considered as extreme realizations. The dependence of the Hill estimator on k is a critical issue for the application of the method to empirical studies and we will discuss it in Section 2\\. On the other hand, the Hill estimator has undergone both deep theoretical study and intensive application, displaying very good performance, competitive (and in some cases even superior) with respect to other EVT approaches. From a theoretical viewpoint, the favorable consideration19 towards the Hill estimator is justified by its asymptotic properties:\n",
    "\n",
    "- Weak consistency\n",
    "- Strong consistency\n",
    "- Asymptotic normality – under additional hypotheses\n",
    "\n",
    "**Graph 1 – Hill plot for t-student and Gaussian distributions** Gaussian and standard-t distributions. The lower the indicator, the lower the estimated alpha, the fatter the tails. In the student t case, the alpha is equal to its degrees of freedom. _Why in the graph, the two lines are declining that way?_\n",
    "\n",
    "![](C:\\Users\\Utente\\Google Drive\\NoViews\\Graphs\\EVT1.png)\n",
    "\n",
    "**Graph 2 - Mean Exceedances Plot of an ETF** Mean Exceedances plot of the Amundi ETF MSCI Emerging Markets UCITS ETF – EUR.\n",
    "\n",
    "![](C:\\Users\\Utente\\Google Drive\\NoViews\\Graphs\\EVT2.png)\n",
    "\n",
    "**Graph 3 – Log-log Plot of an ETF** Log-log plot of the Amundi ETF MSCI Emerging Markets UCITS ETF – EUR.\n",
    "\n",
    "![](C:\\Users\\Utente\\Google Drive\\NoViews\\Graphs\\EVT3.png)\n",
    "\n",
    "**Graph 4 – Hill Plot for an ETF** Hill Plot of the Amundi ETF MSCI Emerging Markets UCITS ET. We should look for the Hill plot stability (visualized as a horizontal line) in order to find out some interval of cut-off that yield stable estimates of the Shape parameter.\n",
    "\n",
    "![](C:\\Users\\Utente\\Google Drive\\NoViews\\Graphs\\EVT4.png)\n",
    "\n",
    "## Cutoff points\n",
    "\n",
    "Both parametric (?) and non-parametric extreme value methods share a common drawback: the estimates they provide are sensitive to the choice of the cut-off parameter, i.e. to the number m of blocks in the block-maxima method, the threshold u in the threshold-exceedance method, or the index k of the order statistic marking the frontier between the center and the tail of the distribution in non-parametric approaches. The choice of the cut-off parameter is thus a central issue to any application of EVT, since in principle different estimates of the shape parameter can lead to significantly different estimates of the VaR, for example.\n",
    "\n",
    "**Conventional choices of cut-off point**: many authors do not address explicitly the problem of the choice of the cut-off for the data they are handling, but simply follow either common sense choices or suggestions retrieved in the literature, usually based on one of the methods that we are presenting in the following paragraphs. A widely used suggestion in this respect is that the number of data falling in the tail should not be higher than 10-15% and a rule of thumb value of 5-10% is often used.\n",
    "\n",
    "## Mad on Standard Deviation\n",
    "\n",
    "Here we try to find an estimator for the tails in financial time series. The first indicator we analyze is: MAD (Mean Absolute Deviation) / standard deviation (SD). We can use the MAD/SD ratio as a gauge of fat-tailedness. The closer the number is to zero, the fatter the tails. The closer the number is to 1 (it can never exceed 1!), the thinner the tails (_why it cannot be > 1?_). In the figure, we plot the MAD/SD ratio for a student-t with varying degrees of freedom. We can see from the green histograms that the MAD on SD ratio is a much more robust measure of fat-tails.\n",
    "\n",
    "Kurtosis is infinite for t-student? What about the MAD SD ratio?\n",
    "\n",
    "## Kurtosis\n",
    "\n",
    "The kurtosis coefficient is often regarded as a measure of the tail heaviness of a distribution relative to that of the normal distribution. However, it also measures the peakedness of a distribution, hence there is no agreement on what kurtosis really estimates. Another disadvantage of the kurtosis is that its interpretation and consequently its use is restricted to symmetric distributions. Moreover, the kurtosis coefficient is very sensitive to outliers in the data This explains in a way why the detection of fragility is vastly more potent than that of risk –and much easier to do. We can use the past to derive general statistical statements, of course, coupled with rigorous probabilistic inference but it is unwise to think that the data unconditionally yields precise probabilities, as we discuss next.\n",
    "\n",
    "## Rolling Measures of Fat Tails\n",
    "\n",
    "**MAD on Standard Deviation, T-student alpha = 3** ![](C:\\Users\\Utente\\Google Drive\\NoViews\\Graphs\\MADSD1.png) **MAD on Standard Deviation, T-student alpha = 2** ![](C:\\Users\\Utente\\Google Drive\\NoViews\\Graphs\\MADSD2.png)\n",
    "\n",
    "**Hill's Estimator, T-student alpha = 3** ![](C:\\Users\\Utente\\Google Drive\\NoViews\\Graphs\\HILL2.png) **Hill's Estimator, T-student alpha = 2** ![](C:\\Users\\Utente\\Google Drive\\NoViews\\Graphs\\HILL1.png)\n",
    "\n",
    "**Kurtosis, T-student alpha = 3** ![](C:\\Users\\Utente\\Google Drive\\NoViews\\Graphs\\KURT2.png) **Kurtosis, T-student alpha = 2** ![](C:\\Users\\Utente\\Google Drive\\NoViews\\Graphs\\KURT1.png)\n",
    "\n",
    "## Power Law Tail Index\n",
    "\n",
    "Power Law / PARETO: the integral of the distribution function sums to 1? Draw the survival, the cumulative and the pdf.<br>\n",
    "[]()"
   ]
  },
  {
   "cell_type": "markdown",
   "metadata": {},
   "source": [
    "Q Is the exponent usually underestimated?\n",
    "\n"
   ]
  },
  {
   "cell_type": "code",
   "execution_count": null,
   "metadata": {},
   "outputs": [],
   "source": []
  }
 ],
 "metadata": {
  "kernelspec": {
   "display_name": "Python 3",
   "language": "python",
   "name": "python3"
  },
  "language_info": {
   "codemirror_mode": {
    "name": "ipython",
    "version": 3
   },
   "file_extension": ".py",
   "mimetype": "text/x-python",
   "name": "python",
   "nbconvert_exporter": "python",
   "pygments_lexer": "ipython3",
   "version": "3.7.4"
  }
 },
 "nbformat": 4,
 "nbformat_minor": 2
}
