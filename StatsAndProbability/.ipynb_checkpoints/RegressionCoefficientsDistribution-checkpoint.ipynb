{
 "cells": [
  {
   "cell_type": "markdown",
   "metadata": {},
   "source": [
    "# Regression"
   ]
  },
  {
   "cell_type": "markdown",
   "metadata": {},
   "source": [
    "The theoretical linear regression of $Y$ on $X$ is the line\n",
    "\n",
    "$x \\rightarrow a^* + b^*x$ where\n",
    "\n",
    "$$(a^*, b^*) = \\underset{(a,b) \\in \\mathop{\\mathbb{R}}^2}{\\arg\\max} \\mathop{\\mathbb{E}}[(Y − a − bX)^2]$$\n",
    "\n",
    "minimizing we obtain:\n",
    "\n",
    "$$a^* = \\mathbb E[Y] - \\frac{\\textsf{Cov}(X,Y)}{\\textsf{Var}(X)} \\mathbb E[X], \\qquad b^* = \\frac{\\textsf{Cov}(X,Y)}{\\textsf{Var}(X)}$$\n",
    "\n",
    "In **empirical linear regression**, we are given a collection of points ${(x_i, y_i) }_{i=1}^{n}$. The goal is to fit a linear model $Y=a+bX+ε$ by computing the Least Squares Estimator, which minimizes the loss function\n",
    "\n",
    "$$\\frac{1}{n} \\sum_{i=1}^ n (y_i - (a + bx_i))^2.$$\n",
    "\n",
    "Using the same technique as in the problems on theoretical linear regression, one obtains the solution\n",
    "\n",
    "$$\\hat{a} = \\overline{y} - \\frac{\\overline{xy} - \\overline{x}\\cdot \\overline{y}}{\\overline{x^2} - \\overline{x}^2} \\overline{x} \\qquad \\hat{b} = \\frac{\\overline{xy} - \\overline{x}\\cdot \\overline{y}}{\\overline{x^2} - \\overline{x}^2}.$$"
   ]
  },
  {
   "cell_type": "code",
   "execution_count": 4,
   "metadata": {},
   "outputs": [],
   "source": [
    "import math\n",
    "import numpy as np\n",
    "import pandas as pd\n",
    "import scipy.stats as stats\n",
    "import statsmodels.api as sm\n",
    "import matplotlib.pyplot as plt"
   ]
  },
  {
   "cell_type": "markdown",
   "metadata": {},
   "source": [
    "\n",
    "## Regression Coefficient Distribution\n",
    "\n",
    "analytic computation of the LSE (which is also MLE) yields:\n",
    "\n",
    "$$\\hat{{\\boldsymbol \\beta }} = (\\mathbb {X}^ T \\mathbb {X})^{-1} \\mathbb {X}^ T \\mathbf Y.$$\n",
    "\n",
    "And it is distributed:\n",
    "\n",
    "$$\\hat{{\\boldsymbol \\beta }} \\sim \\mathcal{N}(\\beta , \\sigma ^2 (\\mathbb {X}^ T \\mathbb {X})^{-1}).$$\n",
    "\n",
    "$Y$ is distributed:\n",
    "\n",
    "$$Y∼N(X^{T}β,σ^2I_{n})$$\n",
    "\n",
    "And, for instance, in the one dimensional case, if we assume that $ε∼N(0,σ^2I_{1000})$ for some fixed $σ^2$, so that $Y∼N(Xβ,σ^2I_{1000})$. The quadratic risk of $\\hat{β}$ and the prediction error are respectively:\n",
    "\n",
    "$$\\mathbb E[| \\hat{{\\boldsymbol \\beta }} - {\\boldsymbol \\beta }|_2^2 = \\sigma^2 \\mathrm{tr}((\\mathbb {X}^ T\\mathbb {X})^{-1})$$\n",
    "\n",
    "$$\\mathbb E[ | \\mathbf Y- \\mathbb {X}\\hat{{\\boldsymbol \\beta }} |_2^2 ] = \\sigma^2(n-p)$$\n",
    "\n",
    "$tr$ means_ \"trace\" and it is the sum of all the diagonal entries.\n",
    "\n",
    "Doing inference regarding regression means producing **non-asymptotic** estimates\n",
    "\n",
    "<span style=\"color:blue\">RECITATION 23 FOR SPECTRAL THEOREM, ORTHOGONAL AND ORTHONORMAL VECTORS</span>\n",
    "\n",
    "; this will be the basis of PCA; given a _symmetric square matrix_ $A$, it can be decomposed in:\n",
    "\n",
    "$$A = V \\Lambda V^T$$\n",
    "\n",
    "Let $A$ be a square $n×n$ matrix with n linearly independent eigenvectors qi (where i = 1, ..., n). Then A can be factorized as\n",
    "\n",
    "$${\\displaystyle \\mathbf {A} =\\mathbf {Q} \\mathbf {\\Lambda } \\mathbf {Q} ^{-1}}$$\n",
    "\n",
    "where $Q$ is the square $n×n$ matrix whose $i^{th}$ column is the eigenvector $q_i$ of $A$, and $Λ$ is the diagonal matrix whose diagonal elements are the corresponding eigenvalues, $Λ_{ii} = λ_i$.\n",
    "\n",
    "where $\\Lambda$ is a diagonal matrix and $V$ is a collection of orthogonal vectors\n",
    "\n",
    "**Projection matrixes**, then eigenvalues are $+1$ or $-1$\n",
    "\n",
    "Consider the model Y|X∼N(XTβ,1) , where X is a p -dimensional random variable. Here, β is a fixed constant. Indicate whether the following statements are true, or false.\n",
    "\n",
    "- $E[Y|X]$ is a constant random variable.\n",
    "- The expected value of $Y$, $E[Y]$ is a constant random variable, if we assume that each Xi has mean μ. Indeed, $\\mathbb {E}[Y]=\\mathbb {E}[\\mathbb {E}[Y|\\mathbf X]]=\\mathbb {E}[\\mathbf X^ T\\beta ]=\\sum_{i=1}^ p \\beta_i\\mu$, which is constant, using the law of iterated expectations.\n",
    "- If $X_i$'s are iid Gaussian, then the conditional mean, $E[Y|X]$ is a Gaussian random variable. Indeed, $\\mathbf X^ T\\beta = \\sum_{i=1}^ p X_ i\\beta_i$ is a sum of iid Gaussian random variables, and is itself a Gaussian random variable.\n",
    "\n",
    "___\n",
    "\n",
    "\n",
    "Test whether the j-th explanatory variable is significant in the linear regression.\n",
    "- $H_0: \\beta_j = 0$ vs $H_1: \\beta_j \\neq 0$ \n",
    "- If $\\gamma_i$ \" is the j-th diagonal coefficient of $\\hat{{\\boldsymbol \\beta }} = (\\mathbb {X}^ T \\mathbb {X})^{-1} \\mathbb {X}^ T \\mathbf Y.$\n",
    "\n",
    "with $(\\gamma_j > 0)$\n",
    "\n",
    "$${\\displaystyle \\frac{\\widehat{\\beta_j} - \\beta_j}{\\sqrt{\\hat{\\sigma^2} \\gamma^2}} \\sim t_{n-p}, }$$\n",
    "\n",
    "In a bivariate linear regression:\n",
    "\n",
    "$${\\displaystyle t={\\frac {{\\widehat {\\beta }}-\\beta }{s_{\\widehat {\\beta }}}}\\ \\sim \\ t_{n-2},}$$\n",
    "\n",
    "where\n",
    "\n",
    "$${\\displaystyle s_{\\widehat {\\beta }}={\\sqrt {\\frac {{\\frac {1}{n-2}}\\sum _{i=1}^{n}{\\widehat {\\varepsilon }}_{i}^{\\,2}}{\\sum _{i=1}^{n}(x_{i}-{\\bar {x}})^{2}}}}}$$\n",
    "\n",
    "and $\\gamma_j = {\\sum _{i=1}^{n}(x_{i}-{\\bar {x}})^{2}}$\n",
    "\n",
    "[link](https://stats.stackexchange.com/questions/117406/proof-that-the-coefficients-in-an-ols-model-follow-a-t-distribution-with-n-k-d)\n",
    "\n",
    "___\n",
    "\n",
    "Let's make an example with $10$ data points of two independent normal random variables, with an $\\mathop{\\mathbb{E}}[{\\beta}] = 0$.\n",
    "\n",
    "Which values can $\\beta$ take?"
   ]
  },
  {
   "cell_type": "code",
   "execution_count": 30,
   "metadata": {},
   "outputs": [],
   "source": [
    "n_samples = 50000\n",
    "n_data_points = 10\n",
    "k = 1\n",
    "dof = n_data_points - 2"
   ]
  },
  {
   "cell_type": "code",
   "execution_count": 31,
   "metadata": {},
   "outputs": [],
   "source": [
    "samples = np.random.multivariate_normal([0, 0], [[1, 0], [0, 1]], size=(n_samples, n_data_points))"
   ]
  },
  {
   "cell_type": "code",
   "execution_count": 32,
   "metadata": {},
   "outputs": [],
   "source": [
    "b1_dict = {}\n",
    "b0_dict = {}\n",
    "var_est = {}\n",
    "se_dict = {}\n",
    "for cnt, sample in enumerate(samples):\n",
    "    X = sample[:,0]\n",
    "    y = sample[:,1]\n",
    "    X = sm.add_constant(X)\n",
    "    res = sm.OLS(y, X).fit()\n",
    "    b0 = res.params[0]\n",
    "    b1 = res.params[1]\n",
    "    b0_dict[cnt] = b0\n",
    "    b1_dict[cnt] = b1\n",
    "    se_dict[cnt] = res.bse[1]  # standard error of the beta coefficient\n",
    "    # np.sqrt((sum((y - (X[:,1] * b1 + b0))**2)/(n-2)) / sum((X[:, 1]-np.mean(X[:, 1]))**2)) =  res.bse[1]\n",
    "     "
   ]
  },
  {
   "cell_type": "code",
   "execution_count": 33,
   "metadata": {},
   "outputs": [],
   "source": [
    "beta_dist = pd.Series(b1_dict)\n",
    "beta_dist_n = beta_dist / pd.Series(se_dict)"
   ]
  },
  {
   "cell_type": "code",
   "execution_count": 34,
   "metadata": {},
   "outputs": [
    {
     "name": "stdout",
     "output_type": "stream",
     "text": [
      "\n",
      "0.03962  (data cumulative probability -2)\n",
      "0.0403  (theoretical cumulative probability at -2)\n",
      "\n"
     ]
    }
   ],
   "source": [
    "threshold = -2\n",
    "from scipy.stats import t as student_t\n",
    "cum_prob = len(beta_dist_n[beta_dist_n < threshold]) / len(beta_dist_n)\n",
    "cum_prob_theory = round(student_t.cdf(threshold, df=dof), 4)\n",
    "\n",
    "print(\"\")\n",
    "print(cum_prob, \" (data cumulative probability %s)\" % str(threshold))\n",
    "print(cum_prob_theory, \" (theoretical cumulative probability at %s)\"% str(threshold))\n",
    "print(\"\")"
   ]
  },
  {
   "cell_type": "code",
   "execution_count": 35,
   "metadata": {},
   "outputs": [
    {
     "data": {
      "image/png": "[encoded data removed]",
      "text/plain": [
       "<Figure size 720x504 with 1 Axes>"
      ]
     },
     "metadata": {
      "needs_background": "light"
     },
     "output_type": "display_data"
    }
   ],
   "source": [
    "# -----\n",
    "\n",
    "plt.figure(figsize=(10, 7))\n",
    "plt.hist(beta_dist_n, density=True, bins=100, alpha=0.5)\n",
    "beta_dist_n.plot.kde()\n",
    "\n",
    "# -----\n",
    "\n",
    "mu = 0\n",
    "variance = 1\n",
    "sigma = math.sqrt(variance)\n",
    "x = np.linspace(mu - 3*sigma, mu + 3*sigma, 1000)\n",
    "plt.plot(x, stats.norm.pdf(x, mu, sigma))\n",
    "\n",
    "\n",
    "# -----\n",
    "\n",
    "from scipy.stats import t as student_t\n",
    "\n",
    "mu = 0\n",
    "variance = 1\n",
    "sigma = math.sqrt(variance)\n",
    "x = np.linspace(mu - 4*sigma, mu + 4*sigma, 100)\n",
    "dist = student_t(dof, 0)\n",
    "plt.plot(x, dist.pdf(x))\n",
    "plt.xlim([-4, 4])\n",
    "plt.show()"
   ]
  },
  {
   "cell_type": "code",
   "execution_count": null,
   "metadata": {},
   "outputs": [],
   "source": []
  },
  {
   "cell_type": "code",
   "execution_count": null,
   "metadata": {},
   "outputs": [],
   "source": []
  },
  {
   "cell_type": "code",
   "execution_count": null,
   "metadata": {},
   "outputs": [],
   "source": []
  }
 ],
 "metadata": {
  "kernelspec": {
   "display_name": "Python 3",
   "language": "python",
   "name": "python3"
  },
  "language_info": {
   "codemirror_mode": {
    "name": "ipython",
    "version": 3
   },
   "file_extension": ".py",
   "mimetype": "text/x-python",
   "name": "python",
   "nbconvert_exporter": "python",
   "pygments_lexer": "ipython3",
   "version": "3.7.4"
  }
 },
 "nbformat": 4,
 "nbformat_minor": 2
}
