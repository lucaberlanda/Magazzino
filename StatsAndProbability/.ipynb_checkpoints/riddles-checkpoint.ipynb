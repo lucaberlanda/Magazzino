{
 "cells": [
  {
   "cell_type": "markdown",
   "metadata": {},
   "source": [
    "number of consecutive heads or tail in $n$ draws\n"
   ]
  },
  {
   "cell_type": "code",
   "execution_count": 17,
   "metadata": {},
   "outputs": [
    {
     "name": "stdout",
     "output_type": "stream",
     "text": [
      "1.0 0.5\n",
      "0.5\n"
     ]
    }
   ],
   "source": [
    "import numpy as np\n",
    "n = 2\n",
    "\n",
    "summation = 0\n",
    "for k in np.arange(1, n/2 + 1):\n",
    "    print(k, 2 ** (-(n-k)))\n",
    "    summation += 2 ** (-(n-k))\n",
    "    \n",
    "print(summation)\n",
    "exp_cons_h_t = (n + 1) * summation"
   ]
  },
  {
   "cell_type": "code",
   "execution_count": 18,
   "metadata": {},
   "outputs": [
    {
     "data": {
      "text/plain": [
       "1.5"
      ]
     },
     "execution_count": 18,
     "metadata": {},
     "output_type": "execute_result"
    }
   ],
   "source": [
    "exp_cons_h_t"
   ]
  },
  {
   "cell_type": "code",
   "execution_count": 14,
   "metadata": {},
   "outputs": [],
   "source": [
    "from numpy import random"
   ]
  },
  {
   "cell_type": "code",
   "execution_count": 15,
   "metadata": {},
   "outputs": [
    {
     "ename": "TypeError",
     "evalue": "binomial() takes at least 2 positional arguments (1 given)",
     "output_type": "error",
     "traceback": [
      "\u001b[1;31m---------------------------------------------------------------------------\u001b[0m",
      "\u001b[1;31mTypeError\u001b[0m                                 Traceback (most recent call last)",
      "\u001b[1;32m<ipython-input-15-3c2c74bc0cd9>\u001b[0m in \u001b[0;36m<module>\u001b[1;34m\u001b[0m\n\u001b[1;32m----> 1\u001b[1;33m \u001b[0mrandom\u001b[0m\u001b[1;33m.\u001b[0m\u001b[0mbinomial\u001b[0m\u001b[1;33m(\u001b[0m\u001b[1;36m100\u001b[0m\u001b[1;33m)\u001b[0m\u001b[1;33m\u001b[0m\u001b[1;33m\u001b[0m\u001b[0m\n\u001b[0m",
      "\u001b[1;32mmtrand.pyx\u001b[0m in \u001b[0;36mmtrand.RandomState.binomial\u001b[1;34m()\u001b[0m\n",
      "\u001b[1;31mTypeError\u001b[0m: binomial() takes at least 2 positional arguments (1 given)"
     ]
    }
   ],
   "source": [
    "random.binomial(100)"
   ]
  },
  {
   "cell_type": "markdown",
   "metadata": {},
   "source": [
    "#### Probability of ruin\n",
    "[tweet](https://twitter.com/mikeharrisNY/status/1315426197413621760) to solve, get the mathematics & optimize code"
   ]
  },
  {
   "cell_type": "code",
   "execution_count": null,
   "metadata": {},
   "outputs": [],
   "source": [
    "import numpy as np\n",
    "import pandas as pd\n",
    "import matplotlib.pyplot as plt\n",
    "\n",
    "np.random.seed(100)\n",
    "df_dict = {}\n",
    "for cnt2 in range(1, 1000):\n",
    "    money = 10\n",
    "    money_dict = {}\n",
    "    for i in range(1, 1000):\n",
    "        if money == 0:\n",
    "            pass\n",
    "        else:\n",
    "            money += sum(np.random.choice([-1, 1], 3))\n",
    "            money_dict[i] = max(money, 0)\n",
    "\n",
    "    df_dict[cnt2] = pd.Series(money_dict)\n",
    "\n",
    "df = pd.DataFrame(df_dict)\n",
    "df.plot()\n",
    "plt.show()"
   ]
  }
 ],
 "metadata": {
  "kernelspec": {
   "display_name": "Python 3",
   "language": "python",
   "name": "python3"
  },
  "language_info": {
   "codemirror_mode": {
    "name": "ipython",
    "version": 3
   },
   "file_extension": ".py",
   "mimetype": "text/x-python",
   "name": "python",
   "nbconvert_exporter": "python",
   "pygments_lexer": "ipython3",
   "version": "3.7.4"
  }
 },
 "nbformat": 4,
 "nbformat_minor": 2
}
