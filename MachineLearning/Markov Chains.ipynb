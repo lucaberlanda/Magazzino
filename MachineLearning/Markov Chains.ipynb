{
 "cells": [
  {
   "cell_type": "markdown",
   "id": "43d3911c-0bdb-45b5-88e2-98dd5804a92c",
   "metadata": {},
   "source": [
    "# <span style='font-family:Inter'> Markov Chain </span>\n",
    "\n",
    "## <span style='font-family:Inter'> Discrete Markov Chain </span>\n",
    "- In which the state changes at certain discrete time instants, indexed by an integer $n$. At each time step $n$, the state of the chain is denoted by $X_n$. and belongs to a finite set $S$ of\n",
    "possible states, called the state space. The Markov chain is described in terms of its **transition probabilities** $P_{ij}$: whenever the state happens to be $i$, there is probability $P_{ij}$ that the next state is equal to $j$. Mathematically\n",
    "\n",
    "    $$Pij = P(Xn+ l = j I Xn = i) . i. j E S.$$\n",
    "\n",
    "- The key assumption underlying Markov chains is that the transition probabilities Pij apply whenever state i is visited, **no matter what happened in the past**, and no matter how state i was reached . J\\lathematically, we assume the **Markov property**, which requires that\n",
    "\n",
    "    $$P(X_{n + l} = j \\mid X_n = i, X_{n - 1} = i_{n - 1} \\dots X_0 = i_0) = P(Xn+ l = j I Xn = i) = Pi)$$.\n",
    "\n",
    "- The probability of a path equals the product of all the transition probabilities of taht specific path. \n",
    "- $n$-step transition probability:\n",
    "    - follow the recursive Chapman-Kolmogrov equation: $$r_{ij}(n) = \\sum_{k=1}^{m} r_{ik}(n-1)p_{ik}$$where $r_{ij}(n)$ is the probability that the state after $n$ times periods will be $j$ given that the current one is $i$. In some cases, different starting states will converge in probability for a given end state (e.g. with $n \\to \\infty$, the probability of $r_{11}(n$) and $r_{21}(n)$ will converge to the same value), while in other cases they could end up having different probabilities. \n",
    "\n",
    "\n",
    "- Frequency of a state been visited\n",
    "    - **accessible** state\n",
    "    - **recurrent** state\n",
    "    - **transient** state\n",
    "\n",
    "- Periodicity\n",
    "\n",
    "- For every state $j$, $r_{ij}(n)$ has a limiting value called **steady state probability** which is independent on the initial state $i$ defined as: $\\pi_j \\approx \\mathbb{P}(X_n = j)$; this given that there is **no periodic class** and **no multiple recurrent class**.\n"
   ]
  },
  {
   "cell_type": "code",
   "execution_count": null,
   "id": "33530aff-b601-445f-ac7e-1ae4129cb89f",
   "metadata": {},
   "outputs": [],
   "source": []
  }
 ],
 "metadata": {
  "kernelspec": {
   "display_name": "Python 3",
   "language": "python",
   "name": "python3"
  },
  "language_info": {
   "codemirror_mode": {
    "name": "ipython",
    "version": 3
   },
   "file_extension": ".py",
   "mimetype": "text/x-python",
   "name": "python",
   "nbconvert_exporter": "python",
   "pygments_lexer": "ipython3",
   "version": "3.8.8"
  }
 },
 "nbformat": 4,
 "nbformat_minor": 5
}
