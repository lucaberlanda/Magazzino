{
 "cells": [
  {
   "cell_type": "markdown",
   "metadata": {},
   "source": [
    "- **Technology** (e.g. Blockchain)\n",
    "- **Protocol** / **Coins** (e.g. Bitcoin, Ethereum)\n",
    "- **Tokens** (\"Essentially, Ethereum tokens are smart contracts that make use of the Ethereum blockchain\"). \n",
    "\n",
    "> *A crypto coin usually serves the function of being the native coin of a blockchain, which is used to trade currency, store value, the usual. A token is pretty similar, or at least it has similar functions. But, crucially, it tends to use another coin’s blockchain. Let’s look at Ethereum as an example. It’s a blockchain, the coin is Ether. Most tokens at the moment are made on Ethereum’s blockchain, though other blockchains, such as Solana​’s, are catching up. Ethereum uses Ether as its native currency, but tokens such as BAT (Basic Attention Token) and Loopring exist on Ethereum’s blockchain. They do this because the team of developers (usually smaller in number) can allow Ethereum to provide all the safety and security while the team behind the token just focuses on making a token that has good features. Ethereum’s blockchain calls its tokens called ERC20 tokens.*\n"
   ]
  },
  {
   "cell_type": "markdown",
   "metadata": {},
   "source": [
    "# <span style='font-family:Inter Black'> Blockcahins"
   ]
  },
  {
   "cell_type": "markdown",
   "metadata": {},
   "source": [
    "- Decentralised \n",
    "- Transparent (but anonymous)\n",
    "- Fast  (vs bank) \n",
    "- Immutable \n",
    "- Remove counterparts risk (insurance) \n",
    "- Trust minimised agreement "
   ]
  },
  {
   "cell_type": "markdown",
   "metadata": {},
   "source": [
    "## <span style='font-family:Inter'> Hash\n",
    "\n",
    "### <span style='font-family:Inter'> The SHA56 Hash algorithm\n",
    "\n",
    "- One way only, i.e. cannot be reversed engineered\n",
    "- any document converted into a 64 character hexadecimal: each charaxcter can be composed of either $6$ letters or $10$ figures. Each letter is 4 bitS (because $4^2=16$), then $4 \\times 64 =256$.\n",
    "- Deterministic\n",
    "- Fast\n",
    "- Avalanche effect: if I change a single bit, the hash will be totally different\n",
    "- Must withstand collisions"
   ]
  },
  {
   "cell_type": "markdown",
   "metadata": {},
   "source": [
    "## <span style='font-family:Inter'> Immutable Ledger\n",
    "\n",
    "All the blocks are linked one after the other.+\n",
    "    \n",
    "## <span style='font-family:Inter'> Distributed P2P\n",
    "\n",
    "If there is a malicious attack on one of the distributed ledgers, the other blockchains will copy over the corrupted chain replacing it."
   ]
  },
  {
   "cell_type": "markdown",
   "metadata": {},
   "source": [
    "# <span style='font-family:Inter Black'> Cryptocurrency  </span>\n",
    "\n",
    "## <span style='font-family:Inter'> Mining </span>\n",
    "    \n",
    "    \n",
    "### The Nonce\n",
    "\n",
    "The **Nonce** is the number that has to be mined, i.e. the number that has to vary in order for the hash to have four zeros at the beginning. In other words, the number used to find the \"solution\" to the blockchain problem. The Nonce is **capped** to 4 billion. \n",
    "\n",
    "> *Nonces are used in proof-of-work systems to vary the input to a cryptographic hash function so as to obtain a hash for a certain input that fulfils certain arbitrary conditions. In doing so, it becomes far more difficult to create a \"desirable\" hash than to verify it, shifting the burden of work onto one side of a transaction or system. For example, proof of work, using hash functions, was considered as a means to combat email spam by forcing email senders to find a hash value for the email (which included a timestamp to prevent pre-computation of useful hashes for later use) that had an arbitrary number of leading zeroes, by hashing the same input with a large number of values until a \"desirable\" hash was obtained. [...] Similarly, the bitcoin blockchain hashing algorithm can be tuned to an arbitrary difficulty by changing the required minimum/maximum value of the hash so that the number of bitcoins awarded for new blocks does not increase linearly with increased network computation power as new users join. This is likewise achieved by forcing bitcoin miners to add nonce values to the value being hashed to change the hash algorithm output. As cryptographic hash algorithms cannot easily be predicted based on their inputs, this makes the act of blockchain hashing and the possibility of being awarded bitcoins something of a lottery, where the first \"miner\" to find a nonce that delivers a desirable hash is awarded bitcoins.*\n",
    "\n",
    "#### Difficulty\n",
    "- Total possible 64-digit hexadecimal numbers: $16 \\times 16 \\times \\dots \\times 16 = 16^{64} = 10^{77}$ \n",
    "- Total valid hashes (with 18 leading zeros): $16 \\times 16 \\times \\dots \\times 16 = 16^{64 - 18} = 2 \\times 10^{55}$\n",
    "- Probability that a Randomly picked hash is valid: $ 2 \\times 10^{55} / 10^{77} = 2 \\times 10^{-22}$ \n",
    " \n",
    "#### Nonce\n",
    "- The Nonce is a 32-bit number, the Max Nonce = 232 = 4,294,967,296 = 4 x 103\n",
    "- Assuming no collisions, this means 4 x 103 different hashes Probability that ONE of them will be valid: 4 x 103x 2 x 1042 = 8 x 1043.. 1042 = 0.0000000001% \n",
    "\n",
    "**Conclusion: One Nonce Range is not enough!**\n",
    "\n",
    "Timestamp is addded! Every one second is updated, \"resetting\" the block. The miner checks all the 4 billion nonces, then waits for the second to finish, then starts again when timestamp is updated. *So why the fastest miner isn't always winning?*\n",
    "\n",
    "Total hash rate (number of hash checked per second) nowadays is around 200 million trillion hashes.\n",
    "\n",
    "### How Miners Pick Transactions?\n",
    "Unconfirmed transactions are stored into a pool called **MEMPOOL** attached to each node. Mempool is a sort of staging pool for transactions. Those transactions have also a fee attached, that will go to the miner who will mine the block where the transaction is included. Usually mining pool will chose the transactions with the highest fees. But usually before the timestamp is over, the pool will have finished to try all possible hashes. In that case, with the remaining time, the pool will change the transactions and try again and so on, until the timestamp changes. Also re-ordering the transactions would affect the hash. However, bitcoin has a canonical ordering of transactions where transactions has rules of how they are being ordered. In this way, the miner cannot re-order the transactions in any way but needs to follow the canonical ordering rule.\n",
    "\n",
    "> Therefore there is **no centralized memory pool**. Instead each node has its own mempool and manages it depending on bitcoin core configuration. The configuration can be changed in order to match the needs of the node owner. So it is normal that size of mempool is different on different nodes. The default mempool maximum size is set to 300MB but you can raise it by setting the"
   ]
  },
  {
   "cell_type": "markdown",
   "metadata": {},
   "source": [
    "### Orphan Blocks\n",
    "\n",
    "If two pools mine the same block with different transactions, it is waited for the chain to have an other block added. One a block is added, the block that is in the longer chain will \"survive\", while the other one will remain orphan."
   ]
  },
  {
   "cell_type": "markdown",
   "metadata": {},
   "source": [
    "### 51% Attack\n",
    "Means some malicious miners have **more than 50% of the hash power**. They keep adding blocks without broadcasting the new blocks to the other nodes. After the malicious blocks added *are enough*, the malicious miners start to broadcast the new chain. The \"correct\" shorter chain will be overridden. Malicious miners probably spent bitcoins in some transaction that went in the \"correct\" chain. After the longer malicious chain is broadcasted, those transactions will go in the mempool. Then they will keep adding blocks through their hash power to keep the transactions out of any newly mined block till the transaction are excluded from the mempool (bitcoin protocol excludes transactions after 72 hours)"
   ]
  },
  {
   "cell_type": "markdown",
   "metadata": {},
   "source": [
    "## <span style='font-family:Inter'> Consensus\n",
    "    \n",
    "- **Byzantine fault tolerance**: maximum 33% traitors for the majority algorithm to work; so in this problem you need ~70% of NON traitors, while blockchain is more powerful, you need 51% \"only\" \n",
    "- Solving the challenge of competing chains! If two nodes mine the same block at the *same time* (before communication reaches everyone)\n",
    "- **Proof of Work** and **Proof of Stake** fall under this umbrella name of **Consensus**\n",
    "- consensus can be broken down in\n",
    "    - chain selection (longer chain is king if there is a conflict)\n",
    "    - sybil resistance:\n",
    "        - PoW >> Miners. All nodes fight to solve the math puzzle; in the case of ethereum, nodes fight to find the nonce that gets an hash with four zeros.\n",
    "        - PoS >> Validators: nodes are randomly chosen to issue the new block, and then validators just validate. You put a collateral as \"stake\": if you misbehave, you lose it. \n",
    "    - Validators and Miners are the ones who get the gas"
   ]
  },
  {
   "cell_type": "markdown",
   "metadata": {},
   "source": [
    "## <span style='font-family:Inter'> Metamask Demo\n",
    "\n",
    "- Open a metamask account\n",
    "- **public** and **private** key\n",
    "    \n",
    "| Keys      | Can Access | Private or Public |\n",
    "| ----------- | ----------- | --------------- |\n",
    "| Mnemonic      | All your accounts       | Keep private! |\n",
    "| Public Keys   | One account        |    Keep private! |\n",
    "| Public Adress   | Nothing        |  Is public |\n",
    "\n",
    "- Etherscan to check the keys"
   ]
  },
  {
   "cell_type": "markdown",
   "metadata": {},
   "source": [
    "## <span style='font-family:Inter'> Blockcahin Demo\n",
    "\n",
    "[**From this amazing Link that shows how blockchain works**](https://andersbrownworth.com/blockchain/distributed)\n",
    "\n",
    "- In the distributed section, when someone forces a chain, the other peers will \"exclude\" him from the system, and majority \n",
    "    rules.\n",
    "- Ethereum Blockchain: *Keccak26*\n",
    "\n",
    "- [On signatures](https://andersbrownworth.com/blockchain/public-private-keys/keys): let's assume that a block contains some transaction referred to Luca. How do we know to who that \"Luca\" refers to? **Private Key**: only known to the key holder. Through an elliptic function, the **public keys** is generated. People can verify the transaction checking the **message signature** with the **public key**. Same logic of hash function. But they cannot go back to your **private key** from me message signature."
   ]
  },
  {
   "cell_type": "markdown",
   "metadata": {},
   "source": []
  },
  {
   "cell_type": "markdown",
   "metadata": {},
   "source": [
    "## <span style='font-family:Inter'> Other\n",
    "    \n",
    "- anyone can run a node, you can go on github and run a node in few seconds\n"
   ]
  },
  {
   "cell_type": "markdown",
   "metadata": {},
   "source": [
    "Bitcoin mining is the process by which new bitcoins are entered into circulation; it is also the way that new transactions are confirmed by the network and a critical component of the maintenance and development of the blockchain ledger."
   ]
  },
  {
   "cell_type": "markdown",
   "metadata": {},
   "source": [
    "## Currency\n",
    "\n",
    "- broadcast transactions\n",
    "- only accept signed transaction\n",
    "- no overspending\n",
    "\n",
    "In the same way that a transaction is considered valid if signed by the sender, a block is considered valid if it has a proof of work. To make the blocks in order, we put the hash of one block has an input of the following block\n",
    "\n",
    "We allow anyone in the world to be a block creator\n",
    "- listen for transactions\n",
    "- collect them into some block (how many?)\n",
    "- and the do the bunch of work to get the hash of the block right\n",
    "\n",
    "In this way, did they mine NEW bitcoins? YES. When a miner VALIDATES  a block (PoW), it gets, OUT OF THIN AIR, some bitcoin. it is called \"block reward\". It doesn't have to be signed. And it adds to total money supply. \n",
    "\n",
    "\n",
    "\"Not miners\" only listen to blocks to get their own personal copy of the blockchain. \n",
    "\n",
    "If there are two different blockchains, trust the longer. If there is a tie, wait for a new block\n",
    "\n",
    "The history of transactions IS the cash\n",
    "\n",
    "\n",
    "> Transactions are broadcasted by anyone in the system and at random intervals. Which transactions, of all the ones broadcasted, are included is very dependent on the miner, as he/she is the one who groups them up and includes them in the block. As Nate noted below, there is also a 1MB block size limit which limits how many transactions can be included in a block. This limit is to prevent huge blocks that clog the network and may be removed if the number of transactions in the network ever grows such that the limit is a serious factor.\n",
    "\n",
    "\n",
    "\n",
    "Miners are also paid in fees, which is optional. The higher the fee, the higher the probability that someone is mining your transaction"
   ]
  },
  {
   "cell_type": "markdown",
   "metadata": {},
   "source": []
  },
  {
   "cell_type": "code",
   "execution_count": null,
   "metadata": {},
   "outputs": [],
   "source": []
  },
  {
   "cell_type": "code",
   "execution_count": null,
   "metadata": {},
   "outputs": [],
   "source": []
  },
  {
   "cell_type": "code",
   "execution_count": null,
   "metadata": {},
   "outputs": [],
   "source": []
  }
 ],
 "metadata": {
  "kernelspec": {
   "display_name": "Python 3",
   "language": "python",
   "name": "python3"
  },
  "language_info": {
   "codemirror_mode": {
    "name": "ipython",
    "version": 3
   },
   "file_extension": ".py",
   "mimetype": "text/x-python",
   "name": "python",
   "nbconvert_exporter": "python",
   "pygments_lexer": "ipython3",
   "version": "3.7.4"
  }
 },
 "nbformat": 4,
 "nbformat_minor": 5
}
