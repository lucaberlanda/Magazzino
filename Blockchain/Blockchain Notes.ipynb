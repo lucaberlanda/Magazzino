{
 "cells": [
  {
   "cell_type": "markdown",
   "id": "a2ae7597",
   "metadata": {},
   "source": [
    "# <span style='font-family:Georgia'> Blockcahin / Cryptos / Smart Contracts"
   ]
  },
  {
   "cell_type": "markdown",
   "id": "3fd97a0f",
   "metadata": {},
   "source": [
    "- Decentralised \n",
    "- Transparent (but anonymous)\n",
    "- Fast  (vs bank) \n",
    "- Immutable \n",
    "- Remove counterparts risk (insurance) \n",
    "- Trust minimised agreement \n"
   ]
  },
  {
   "cell_type": "markdown",
   "id": "79a3a38e",
   "metadata": {},
   "source": [
    "## <span style='font-family:Georgia'> Hash\n",
    "\n",
    "### <span style='font-family:Georgia'> The SHA56 Hash algorithm\n",
    "\n",
    "- One way only\n",
    "- any document converted into a 64 character hexadecimal: each charaxcter can be composed of either $6$ letters or $10$ figures. Each letter is 4 bitS (because $4^2=16$), then $4 \\times 64 =256$.\n",
    "- Deterministic\n",
    "- Fast\n",
    "- Avalanche effect: if I change a single bit, the hash will be totally different\n",
    "- Must withstand collisions"
   ]
  },
  {
   "cell_type": "markdown",
   "id": "e199a877",
   "metadata": {},
   "source": [
    "## <span style='font-family:Georgia'> Immutable Ledger\n",
    "\n",
    "All the blocks are linked one after the other.+\n",
    "    \n"
   ]
  },
  {
   "cell_type": "code",
   "execution_count": null,
   "id": "b3e379bb",
   "metadata": {},
   "outputs": [],
   "source": []
  },
  {
   "cell_type": "code",
   "execution_count": null,
   "id": "74488761",
   "metadata": {},
   "outputs": [],
   "source": []
  },
  {
   "cell_type": "markdown",
   "id": "0897fcdf",
   "metadata": {},
   "source": [
    "## <span style='font-family:Georgia'> Metamask Demo\n",
    "\n",
    "- Open a metamask account\n",
    "- **public** and **private** key\n",
    "    \n",
    "| Keys      | Can Access | Private or Public |\n",
    "| ----------- | ----------- | --------------- |\n",
    "| Mnemonic      | All your accounts       | Keep private! |\n",
    "| Public Keys   | One account        |    Keep private! |\n",
    "| Public Adress   | Nothing        |  Is public |\n",
    "\n",
    "- Etherscan to check the keys"
   ]
  },
  {
   "cell_type": "markdown",
   "id": "fc016a65",
   "metadata": {},
   "source": [
    "## <span style='font-family:Georgia'> Blockcahin Demo\n",
    "\n",
    "[**From this amazing Link that shows how blockchain works**](https://andersbrownworth.com/blockchain/distributed)\n",
    "\n",
    "- In the distributed section, when someone forces a chain, the other peers will \"exclude\" him from the system, and majority \n",
    "    rules.\n",
    "- Ethereum Blockchain: *Keccak26*\n",
    "- The **Nonce** is the number that has to be mined, i.e. the number that has to vary in order for the hash to have four zeros at the beginning. In other words, the number used to find the \"solution\" to the blockchain problem.\n",
    "- [On signatures](https://andersbrownworth.com/blockchain/public-private-keys/keys): let's assume that a block contains some transaction referred to Luca. How do we know to who that \"Luca\" refers to? **Private Key**: only known to the key holder. Through an elliptic function, the **public keys** is generated. People can verify the transaction checking the **message signature** with the **public key**. Same logic of hash function. But they cannot go back to your **private key** from me message signature."
   ]
  },
  {
   "cell_type": "markdown",
   "id": "6e0d8f37",
   "metadata": {},
   "source": [
    "> Nonces are used in proof-of-work systems to vary the input to a cryptographic hash function so as to obtain a hash for a certain input that fulfils certain arbitrary conditions. In doing so, it becomes far more difficult to create a \"desirable\" hash than to verify it, shifting the burden of work onto one side of a transaction or system. For example, proof of work, using hash functions, was considered as a means to combat email spam by forcing email senders to find a hash value for the email (which included a timestamp to prevent pre-computation of useful hashes for later use) that had an arbitrary number of leading zeroes, by hashing the same input with a large number of values until a \"desirable\" hash was obtained. [...] Similarly, the bitcoin blockchain hashing algorithm can be tuned to an arbitrary difficulty by changing the required minimum/maximum value of the hash so that the number of bitcoins awarded for new blocks does not increase linearly with increased network computation power as new users join. This is likewise achieved by forcing bitcoin miners to add nonce values to the value being hashed to change the hash algorithm output. As cryptographic hash algorithms cannot easily be predicted based on their inputs, this makes the act of blockchain hashing and the possibility of being awarded bitcoins something of a lottery, where the first \"miner\" to find a nonce that delivers a desirable hash is awarded bitcoins."
   ]
  },
  {
   "cell_type": "markdown",
   "id": "6cbba870",
   "metadata": {},
   "source": [
    "## <span style='font-family:Georgia'> Other\n",
    "    \n",
    "- anyone can run a node, you can go on github and run a node in few seconds\n",
    "- **Proof of Work** and **Proof of Stake** fall under this umbrella name of **Consensus**\n",
    "- consensus can be broken down in\n",
    "    - chain selection\n",
    "    - sybil resistance:\n",
    "        - PoW >> Miners. All nodes fight to solve the math puzzle; in the case of ethereum, nodes fight to find the nonce that gets an hash with four zeros.\n",
    "        - PoS >> Validators: nodes are randomly chosen to issue the new block, and then validators just validate. You put a collateral as \"stake\": if you misbehave, you lose it. \n",
    "    - Validators and Miners are the ones who get the gas"
   ]
  },
  {
   "cell_type": "markdown",
   "id": "c7cde2d4",
   "metadata": {},
   "source": [
    "Bitcoin mining is the process by which new bitcoins are entered into circulation; it is also the way that new transactions are confirmed by the network and a critical component of the maintenance and development of the blockchain ledger."
   ]
  },
  {
   "cell_type": "code",
   "execution_count": null,
   "id": "758c3cca",
   "metadata": {},
   "outputs": [],
   "source": []
  },
  {
   "cell_type": "markdown",
   "id": "5add3f76",
   "metadata": {},
   "source": [
    "## Currency\n",
    "\n",
    "- broadcast transactions\n",
    "- only accept signed transaction\n",
    "- no overspending\n",
    "\n",
    "In the same way that a transaction is considered valid if signed by the sender, a block is considered valid if it has a proof of work. To make the blocks in order, we put the hash of one block has an input of the following block\n",
    "\n",
    "We allow anyone in the world to be a block creator\n",
    "- listen for transactions\n",
    "- collect them into some block (how many?)\n",
    "- and the do the bunch of work to get the hash of the block right\n",
    "\n",
    "In this way, did they mine NEW bitcoins? YES. When a miner VALIDATES  a block (PoW), it gets, OUT OF THIN AIR, some bitcoin. it is called \"block reward\". It doesn't have to be signed. And it adds to total money supply. \n",
    "\n",
    "\n",
    "\"Not miners\" only listen to blocks to get their own personal copy of the blockchain. \n",
    "\n",
    "If there are two different blockchains, trust the longer. If there is a tie, wait for a new block\n",
    "\n",
    "The history of transactions IS the cash\n",
    "\n",
    "\n",
    "> Transactions are broadcasted by anyone in the system and at random intervals. Which transactions, of all the ones broadcasted, are included is very dependent on the miner, as he/she is the one who groups them up and includes them in the block. As Nate noted below, there is also a 1MB block size limit which limits how many transactions can be included in a block. This limit is to prevent huge blocks that clog the network and may be removed if the number of transactions in the network ever grows such that the limit is a serious factor.\n",
    "\n",
    "\n",
    "\n",
    "Miners are also paid in fees, which is optional. The higher the fee, the higher the probability that someone is mining your transaction"
   ]
  },
  {
   "cell_type": "code",
   "execution_count": null,
   "id": "d14c07e2",
   "metadata": {},
   "outputs": [],
   "source": []
  }
 ],
 "metadata": {
  "kernelspec": {
   "display_name": "Python 3",
   "language": "python",
   "name": "python3"
  },
  "language_info": {
   "codemirror_mode": {
    "name": "ipython",
    "version": 3
   },
   "file_extension": ".py",
   "mimetype": "text/x-python",
   "name": "python",
   "nbconvert_exporter": "python",
   "pygments_lexer": "ipython3",
   "version": "3.8.8"
  }
 },
 "nbformat": 4,
 "nbformat_minor": 5
}
