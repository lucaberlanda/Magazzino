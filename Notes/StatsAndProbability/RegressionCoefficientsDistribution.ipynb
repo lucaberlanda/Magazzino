{
 "cells": [
  {
   "cell_type": "markdown",
   "metadata": {},
   "source": [
    "# <span style='font-family:Inter Black'> Regression Coefficients Distribution\n",
    "\n",
    "## <span style='font-family:Inter'> Regression Refresh"
   ]
  },
  {
   "cell_type": "markdown",
   "metadata": {},
   "source": [
    "The theoretical linear regression of $Y$ on $X$ is the line\n",
    "\n",
    "$x \\rightarrow a^* + b^*x$ where\n",
    "\n",
    "$$(a^*, b^*) = \\underset{(a,b) \\in \\mathop{\\mathbb{R}}^2}{\\arg\\max} \\mathop{\\mathbb{E}}[(Y − a − bX)^2]$$\n",
    "\n",
    "minimizing we obtain:\n",
    "\n",
    "$$a^* = \\mathbb E[Y] - \\frac{\\textsf{Cov}(X,Y)}{\\textsf{Var}(X)} \\mathbb E[X], \\qquad b^* = \\frac{\\textsf{Cov}(X,Y)}{\\textsf{Var}(X)}$$\n",
    "\n",
    "In **empirical linear regression**, we are given a collection of points ${(x_i, y_i) }_{i=1}^{n}$. The goal is to fit a linear model $Y=a+bX+\\epsilon$ by computing the Least Squares Estimator, which minimizes the loss function\n",
    "\n",
    "$$\\frac{1}{n} \\sum_{i=1}^ n (y_i - (a + bx_i))^2.$$\n",
    "\n",
    "Using the same technique as in the problems on theoretical linear regression, one obtains the solution\n",
    "\n",
    "$$\\hat{a} = \\overline{y} - \\frac{\\overline{xy} - \\overline{x}\\cdot \\overline{y}}{\\overline{x^2} - \\overline{x}^2} \\overline{x} \\qquad \\hat{b} = \\frac{\\overline{xy} - \\overline{x}\\cdot \\overline{y}}{\\overline{x^2} - \\overline{x}^2}.$$"
   ]
  },
  {
   "cell_type": "markdown",
   "metadata": {},
   "source": [
    "## <span style='font-family:Inter'> Regression Coefficients Distribution: Analysis\n",
    "\n",
    "analytic computation of the LSE (which is also MLE) yields:\n",
    "\n",
    "$$\\hat{{\\boldsymbol \\beta }} = (\\mathbb {X}^ T \\mathbb {X})^{-1} \\mathbb {X}^ T \\mathbf Y.$$\n",
    "\n",
    "And it is distributed:\n",
    "\n",
    "$$\\hat{{\\boldsymbol \\beta }} \\sim \\mathcal{N}(\\beta , \\sigma ^2 (\\mathbb {X}^ T \\mathbb {X})^{-1}).$$\n",
    "\n",
    "$Y$ is distributed:\n",
    "\n",
    "$$Y∼N(X^{T}β,σ^2I_{n})$$\n",
    "\n",
    "And, for instance, in the one dimensional case, if we assume that $ε∼N(0,σ^2I_{1000})$ for some fixed $σ^2$, so that $Y∼N(Xβ,σ^2I_{1000})$. The quadratic risk of $\\hat{β}$ and the prediction error are respectively:\n",
    "\n",
    "$$\\mathbb E[| \\hat{{\\boldsymbol \\beta }} - {\\boldsymbol \\beta }|_2^2 = \\sigma^2 \\mathrm{tr}((\\mathbb {X}^ T\\mathbb {X})^{-1})$$\n",
    "\n",
    "$$\\mathbb E[ | \\mathbf Y- \\mathbb {X}\\hat{{\\boldsymbol \\beta }} |_2^2 ] = \\sigma^2(n-p)$$\n",
    "\n",
    "$tr$ means_ \"trace\" and it is the sum of all the diagonal entries."
   ]
  },
  {
   "cell_type": "markdown",
   "metadata": {},
   "source": [
    "___\n",
    "\n",
    "\n",
    "Test whether the j-th explanatory variable is significant in the linear regression.\n",
    "- $H_0: \\beta_j = 0$ vs $H_1: \\beta_j \\neq 0$ \n",
    "- If $\\gamma_i$ \" is the j-th diagonal coefficient of $\\hat{{\\boldsymbol \\beta }} = (\\mathbb {X}^ T \\mathbb {X})^{-1} \\mathbb {X}^ T \\mathbf Y.$\n",
    "\n",
    "with $(\\gamma_j > 0)$\n",
    "\n",
    "$${\\displaystyle \\frac{\\widehat{\\beta_j} - \\beta_j}{\\sqrt{\\hat{\\sigma^2} \\gamma^2}} \\sim t_{n-p}, }$$\n",
    "\n",
    "In a bivariate linear regression:\n",
    "\n",
    "$${\\displaystyle t={\\frac {{\\widehat {\\beta }}-\\beta }{s_{\\widehat {\\beta }}}}\\ \\sim \\ t_{n-2},}$$\n",
    "\n",
    "where\n",
    "\n",
    "$${\\displaystyle s_{\\widehat {\\beta }}={\\sqrt {\\frac {{\\frac {1}{n-2}}\\sum _{i=1}^{n}{\\widehat {\\varepsilon }}_{i}^{\\,2}}{\\sum _{i=1}^{n}(x_{i}-{\\bar {x}})^{2}}}}}$$\n",
    "\n",
    "and $\\gamma_j = {\\sum _{i=1}^{n}(x_{i}-{\\bar {x}})^{2}}$\n",
    "\n",
    "[link](https://stats.stackexchange.com/questions/117406/proof-that-the-coefficients-in-an-ols-model-follow-a-t-distribution-with-n-k-d)\n",
    "\n",
    "___\n",
    "\n",
    "Let's make an example with $10$ data points of two independent normal random variables, with an $\\mathop{\\mathbb{E}}[{\\beta}] = 0$.\n",
    "\n",
    "Which values can $\\beta$ take?"
   ]
  },
  {
   "cell_type": "code",
   "execution_count": 1,
   "metadata": {},
   "outputs": [],
   "source": [
    "import math\n",
    "import numpy as np\n",
    "import pandas as pd\n",
    "import scipy.stats as stats\n",
    "import statsmodels.api as sm\n",
    "import matplotlib.pyplot as plt"
   ]
  },
  {
   "cell_type": "code",
   "execution_count": 4,
   "metadata": {},
   "outputs": [],
   "source": [
    "n_samples = 50000\n",
    "n_data_points = 6\n",
    "k = 1\n",
    "dof = n_data_points - 2"
   ]
  },
  {
   "cell_type": "code",
   "execution_count": 5,
   "metadata": {},
   "outputs": [],
   "source": [
    "samples = np.random.multivariate_normal([0, 0], [[1, 0], [0, 1]], size=(n_samples, n_data_points))"
   ]
  },
  {
   "cell_type": "code",
   "execution_count": 6,
   "metadata": {},
   "outputs": [],
   "source": [
    "b1_dict = {}\n",
    "b0_dict = {}\n",
    "var_est = {}\n",
    "se_dict = {}\n",
    "for cnt, sample in enumerate(samples):\n",
    "    X = sample[:,0]\n",
    "    y = sample[:,1]\n",
    "    X = sm.add_constant(X)\n",
    "    res = sm.OLS(y, X).fit()\n",
    "    b0 = res.params[0]\n",
    "    b1 = res.params[1]\n",
    "    b0_dict[cnt] = b0\n",
    "    b1_dict[cnt] = b1\n",
    "    se_dict[cnt] = res.bse[1]  # standard error of the beta coefficient\n",
    "    # np.sqrt((sum((y - (X[:,1] * b1 + b0))**2)/(n-2)) / sum((X[:, 1]-np.mean(X[:, 1]))**2)) =  res.bse[1]\n",
    "     "
   ]
  },
  {
   "cell_type": "code",
   "execution_count": 7,
   "metadata": {},
   "outputs": [],
   "source": [
    "beta_dist = pd.Series(b1_dict)\n",
    "beta_dist_n = beta_dist / pd.Series(se_dict)"
   ]
  },
  {
   "cell_type": "code",
   "execution_count": 8,
   "metadata": {},
   "outputs": [
    {
     "name": "stdout",
     "output_type": "stream",
     "text": [
      "\n",
      "0.05798  (data cumulative probability -2)\n",
      "0.0581  (theoretical cumulative probability at -2)\n",
      "\n"
     ]
    }
   ],
   "source": [
    "threshold = -2\n",
    "from scipy.stats import t as student_t\n",
    "cum_prob = len(beta_dist_n[beta_dist_n < threshold]) / len(beta_dist_n)\n",
    "cum_prob_theory = round(student_t.cdf(threshold, df=dof), 4)\n",
    "\n",
    "print(\"\")\n",
    "print(cum_prob, \" (data cumulative probability %s)\" % str(threshold))\n",
    "print(cum_prob_theory, \" (theoretical cumulative probability at %s)\"% str(threshold))\n",
    "print(\"\")"
   ]
  },
  {
   "cell_type": "code",
   "execution_count": 14,
   "metadata": {},
   "outputs": [
    {
     "data": {
      "image/png": "[encoded data removed]",
      "text/plain": [
       "<Figure size 720x504 with 1 Axes>"
      ]
     },
     "metadata": {
      "needs_background": "light"
     },
     "output_type": "display_data"
    }
   ],
   "source": [
    "# -----\n",
    "\n",
    "plt.figure(figsize=(10, 7))\n",
    "plt.hist(beta_dist_n, density=True, bins=150, alpha=0.5)\n",
    "beta_dist_n.plot.kde()\n",
    "\n",
    "# -----\n",
    "\n",
    "mu = 0\n",
    "variance = 1\n",
    "sigma = math.sqrt(variance)\n",
    "x = np.linspace(mu - 3*sigma, mu + 3*sigma, 1000)\n",
    "plt.plot(x, stats.norm.pdf(x, mu, sigma), linestyle='--')\n",
    "\n",
    "\n",
    "# -----\n",
    "\n",
    "from scipy.stats import t as student_t\n",
    "\n",
    "mu = 0\n",
    "variance = 1\n",
    "sigma = math.sqrt(variance)\n",
    "x = np.linspace(mu - 4*sigma, mu + 4*sigma, 100)\n",
    "dist = student_t(dof, 0)\n",
    "plt.plot(x, dist.pdf(x))\n",
    "plt.xlim([-5, 5])\n",
    "plt.show()"
   ]
  },
  {
   "cell_type": "markdown",
   "metadata": {},
   "source": [
    "## <span style='font-family:Inter'> Regression Coefficients Distribution Code</span>"
   ]
  },
  {
   "cell_type": "code",
   "execution_count": 9,
   "metadata": {},
   "outputs": [],
   "source": [
    "n_features = 10\n",
    "n_samples = 60\n",
    "df = pd.DataFrame(np.random.normal(0, 1, [n_samples, n_features]))\n",
    "s = pd.Series(np.random.normal(0, 1, n_samples))"
   ]
  },
  {
   "cell_type": "code",
   "execution_count": 12,
   "metadata": {},
   "outputs": [],
   "source": [
    "from statsmodels.regression.linear_model import OLS\n",
    "result = OLS(endog=s, exog=df).fit()"
   ]
  },
  {
   "cell_type": "code",
   "execution_count": null,
   "metadata": {},
   "outputs": [],
   "source": []
  }
 ],
 "metadata": {
  "kernelspec": {
   "display_name": "Python 3",
   "language": "python",
   "name": "python3"
  },
  "language_info": {
   "codemirror_mode": {
    "name": "ipython",
    "version": 3
   },
   "file_extension": ".py",
   "mimetype": "text/x-python",
   "name": "python",
   "nbconvert_exporter": "python",
   "pygments_lexer": "ipython3",
   "version": "3.8.8"
  }
 },
 "nbformat": 4,
 "nbformat_minor": 4
}
