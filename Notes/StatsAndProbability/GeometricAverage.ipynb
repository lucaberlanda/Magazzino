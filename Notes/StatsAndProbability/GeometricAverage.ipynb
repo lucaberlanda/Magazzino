{
 "cells": [
  {
   "cell_type": "markdown",
   "id": "93c4d470-310c-4c0d-90e6-5b513461e6dc",
   "metadata": {},
   "source": [
    "#  Geometric Average\n",
    "\n",
    "Connection between the geometric mean and logarithms. Take a set of observations $y_1 \\dots y_n$. Assume that these are all positive numbers. Then:\n",
    "\n",
    "$$\\langle \\log(y) \\rangle = \\log(G)$$\n",
    "\n",
    "Where $y=y_1y_2\\dots y_n$. The angle brackets indicate the mean (expectation value), and $G$ is the geometric mean of the observations. Derivation:\n",
    "\n",
    "\\begin{split}\n",
    "\\langle \\log(y) \\rangle & = \\frac{1}{n}\\left( \\log(y_1) + \\log(y_2) + \\dots + \\log(y_n) \\right) \\\\\n",
    "& = \\frac{1}{n} \\log(y_1 y_2 \\cdots y_n) \\\\\n",
    "& = \\log((y_1 y_2 \\cdots y_n)^{1/n}) \\\\\n",
    "& = \\log(G)\n",
    "\\end{split}"
   ]
  },
  {
   "cell_type": "markdown",
   "id": "b261fcf2-fbb1-4655-a3f8-565983820ddf",
   "metadata": {},
   "source": [
    "**Maximizing $G$ means maximizing $\\log(G)$**. Which means maximizing $y$. The exponential growth rate:"
   ]
  },
  {
   "cell_type": "markdown",
   "id": "0bc599b6-f89e-4a91-acbc-64b6cd2e234a",
   "metadata": {},
   "source": [
    "$$G = (y_1 y_2 \\cdots y_n)^{1/n} = \\exp \\bigg( \\sum_{i=1}^{n} \\frac{\\ln(y_i)}{n} \\bigg)$$"
   ]
  },
  {
   "cell_type": "code",
   "execution_count": null,
   "id": "364fda8b-ff3b-46fb-950f-1954c09d06fe",
   "metadata": {},
   "outputs": [],
   "source": []
  }
 ],
 "metadata": {
  "kernelspec": {
   "display_name": "Python 3",
   "language": "python",
   "name": "python3"
  },
  "language_info": {
   "codemirror_mode": {
    "name": "ipython",
    "version": 3
   },
   "file_extension": ".py",
   "mimetype": "text/x-python",
   "name": "python",
   "nbconvert_exporter": "python",
   "pygments_lexer": "ipython3",
   "version": "3.8.8"
  }
 },
 "nbformat": 4,
 "nbformat_minor": 5
}
