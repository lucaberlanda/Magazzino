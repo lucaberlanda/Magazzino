{
 "cells": [
  {
   "cell_type": "markdown",
   "id": "445899a3",
   "metadata": {},
   "source": [
    "# <span style='font-family:Inter Black'> Geometric vs Arithmetic Mean\n",
    "\n",
    "In mathematics, the inequality of arithmetic and geometric means, or more briefly the AM–GM inequality, states that the arithmetic mean of a list of non-negative real numbers is greater than or equal to the geometric mean of the same list; and further, that the two means are equal if and only if every number in the list is the same (in which case they are both that number).\n",
    "\n",
    "The simplest non-trivial case – i.e., with more than one variable – for two non-negative numbers x and y, is the statement that\n",
    "\n",
    "$${\\displaystyle {\\frac {x+y}{2}}\\geq {\\sqrt {xy}}}$$\n",
    "\n",
    "with equality if and only if x = y. This case can be seen from the fact that the square of a real number is always non-negative (greater than or equal to zero) and from the elementary case (a ± b)2 = a2 ± 2ab + b2 of the binomial formula:\n",
    "\n",
    "$${\\displaystyle {\\begin{aligned}0&\\leq (x-y)^{2}\\\\&=x^{2}-2xy+y^{2}\\\\&=x^{2}+2xy+y^{2}-4xy\\\\&=(x+y)^{2}-4xy.\\end{aligned}}}$$\n",
    "\n",
    "Hence (x + y)2 ≥ 4xy, with equality precisely when (x − y)2 = 0, i.e. x = y. The AM–GM inequality then follows from taking the positive square root of both sides and then dividing both sides by 2.\n",
    "\n",
    "For a geometrical interpretation, consider a rectangle with sides of length x and y, hence it has perimeter 2x + 2y and area xy. Similarly, a square with all sides of length √xy has the perimeter 4√xy and the same area as the rectangle. The simplest non-trivial case of the AM–GM inequality implies for the perimeters that 2x + 2y ≥ 4√xy and that only the square has the smallest perimeter amongst all rectangles of equal area.\n",
    "\n",
    "Extensions of the AM–GM inequality are available to include weights or generalized means."
   ]
  },
  {
   "cell_type": "markdown",
   "id": "2cd7d36f",
   "metadata": {},
   "source": [
    "## <span style='font-family:Inter Black'> Proof using Jensen's inequality\n",
    "Jensen's inequality states that **the value of a concave function of an arithmetic mean is greater than or equal to the arithmetic mean of the function's values**. Since the logarithm function is concave, we have\n",
    "\n",
    "$${\\displaystyle \\log \\left({\\frac {\\sum _{i}x_{i}}{n}}\\right)\\geq \\sum {\\frac {1}{n}}\\log x_{i}=\\sum \\left(\\log x_{i}^{1/n}\\right)=\\log \\left(\\prod x_{i}^{1/n}\\right)}$$\n",
    "\n",
    "Taking antilogs of the far left and far right sides, we have the AM–GM inequality."
   ]
  },
  {
   "cell_type": "code",
   "execution_count": null,
   "id": "6242574f",
   "metadata": {},
   "outputs": [],
   "source": []
  }
 ],
 "metadata": {
  "kernelspec": {
   "display_name": "Python 3",
   "language": "python",
   "name": "python3"
  },
  "language_info": {
   "codemirror_mode": {
    "name": "ipython",
    "version": 3
   },
   "file_extension": ".py",
   "mimetype": "text/x-python",
   "name": "python",
   "nbconvert_exporter": "python",
   "pygments_lexer": "ipython3",
   "version": "3.8.8"
  }
 },
 "nbformat": 4,
 "nbformat_minor": 5
}
