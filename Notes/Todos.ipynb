{
 "cells": [
  {
   "cell_type": "markdown",
   "metadata": {},
   "source": [
    "# TODOs\n",
    "\n",
    "\n",
    "- Difference between **erdodicity** and **stationarity**\n",
    "\n",
    "- binomial distribution >>> number of successes in n trials\n",
    "\n",
    "- geometric distribution >>> number of failures before the first success\n",
    "\n",
    "- negative binomial distribution >>> number of failures before the xth success\n",
    "\n",
    "- Simulate Chernoff Bound ✓ (fix the code)\n",
    "\n",
    "- Simulate Cheb Inequality\n",
    "\n",
    "- Simulare Serie Moving Average\n",
    "\n",
    "- Simulare Serie Auto-regressive\n",
    "\n",
    "- Simulare ARMA\n",
    "\n",
    "- Simulate Pareto Distribution and compute the MAD.\n",
    "\n",
    "- Simulate Spectral Decomposition (?)\n",
    "\n",
    "- Simulate Gaussian Mixture (Silent Risk page 100)\n",
    "\n",
    "- Cauchy distribution ✓ (mean never converges)\n",
    "\n",
    "- Subexponential Distribution\n",
    "\n",
    "- [Power law Index is Underestimated](#PowerLawIndex)\n",
    "\n",
    "- Closed form solutions for distributions?\n",
    "\n",
    "- Integrals for distributions?\n",
    "\n",
    "- Borel cantelli Lemma\n",
    "\n",
    "- Paper on violence\n",
    "- Information theory: which \"betting rate\"?\n",
    "- Detecting luck\n",
    "- Earthquake power law\n",
    "- Expected value of a power law\n",
    "- Expected time of a power law (time waited expected)\n",
    "\n",
    "### NORMAL DISTRIBUTION:\n",
    "\n",
    "- verificare che una distribuzione sia normale (QQ plot)\n",
    "- suo integrale (erfi?)\n",
    "- Fat tails IMPLY high peak?\n"
   ]
  },
  {
   "cell_type": "code",
   "execution_count": null,
   "metadata": {},
   "outputs": [],
   "source": []
  }
 ],
 "metadata": {
  "kernelspec": {
   "display_name": "Python 3",
   "language": "python",
   "name": "python3"
  },
  "language_info": {
   "codemirror_mode": {
    "name": "ipython",
    "version": 3
   },
   "file_extension": ".py",
   "mimetype": "text/x-python",
   "name": "python",
   "nbconvert_exporter": "python",
   "pygments_lexer": "ipython3",
   "version": "3.7.4"
  }
 },
 "nbformat": 4,
 "nbformat_minor": 4
}
